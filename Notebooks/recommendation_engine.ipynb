{
 "cells": [
  {
   "cell_type": "code",
   "execution_count": 1,
   "id": "74096d24",
   "metadata": {},
   "outputs": [],
   "source": [
    "import numpy as np\n",
    "import pandas as pd\n",
    "import ast\n",
    "# Import linear_kernel\n",
    "from sklearn.metrics.pairwise import linear_kernel\n",
    "#Import TfIdfVectorizer (scikit-learn)\n",
    "from sklearn.feature_extraction.text import TfidfVectorizer"
   ]
  },
  {
   "cell_type": "markdown",
   "id": "86a120c4",
   "metadata": {},
   "source": [
    "# Data\n",
    "- the data was downloaded from:\n",
    "\n",
    "https://www.kaggle.com/shuyangli94/food-com-recipes-and-user-interactions\n",
    "\n",
    "**Data description:**\n",
    "This dataset consists of 180K+ recipes and 700K+ recipe reviews covering 18 years of user interactions and uploads on Food.com (formerly GeniusKitchen). used in the following paper:\n",
    "\n",
    "Generating Personalized Recipes from Historical User Preferences\n",
    "Bodhisattwa Prasad Majumder*, Shuyang Li*, Jianmo Ni, Julian McAuley\n",
    "EMNLP, 2019\n",
    "https://www.aclweb.org/anthology/D19-1613/\n",
    "\n",
    "\n",
    "**License:**\n",
    "\n",
    "Kaggle: Data files © Original Authors\n",
    "\n",
    "Paper: \n",
    "ACL materials are Copyright © 1963–2022 ACL; other materials are copyrighted by their respective copyright holders. Materials prior to 2016 here are licensed under the Creative Commons Attribution-NonCommercial-ShareAlike 3.0 International License. Permission is granted to make copies for the purposes of teaching and research. Materials published in or after 2016 are licensed on a Creative Commons Attribution 4.0 International License.\n",
    "\n",
    "The ACL Anthology is managed and built by the ACL Anthology team of volunteers.\n",
    "\n",
    "Site last built on 20 January 2022 at 01:07 UTC with commit 7c68786d."
   ]
  },
  {
   "cell_type": "markdown",
   "id": "3fee002e",
   "metadata": {},
   "source": [
    "## Data exploration"
   ]
  },
  {
   "cell_type": "code",
   "execution_count": 7,
   "id": "eb44581e",
   "metadata": {},
   "outputs": [],
   "source": [
    "data_path = \"/home/david/Projects/Hackathons/DeveloperWeek2022/RecipeSuggestions/data/\""
   ]
  },
  {
   "cell_type": "code",
   "execution_count": null,
   "id": "c5d16e02",
   "metadata": {},
   "outputs": [],
   "source": [
    "# need to convert string representation of ingredients list to list using ast\n",
    "raw_recipes = pd.read_csv(data_path + \"RAW_recipes.csv\", converters={'ingredients': ast.literal_eval})\n",
    "raw_recipes.head(5)"
   ]
  },
  {
   "cell_type": "code",
   "execution_count": null,
   "id": "c3ddf8d1",
   "metadata": {},
   "outputs": [],
   "source": [
    "raw_interactions = pd.read_csv(data_path + \"RAW_interactions.csv\")\n",
    "raw_interactions.head(5)"
   ]
  },
  {
   "cell_type": "markdown",
   "id": "6f0cd113",
   "metadata": {},
   "source": [
    "### Number of recipes"
   ]
  },
  {
   "cell_type": "code",
   "execution_count": null,
   "id": "dd908717",
   "metadata": {},
   "outputs": [],
   "source": [
    "nr_recipes = len(raw_recipes)\n",
    "print(\"There are \", nr_recipes, \" in the database.\")"
   ]
  },
  {
   "cell_type": "markdown",
   "id": "83b3f47b",
   "metadata": {},
   "source": [
    "### Distribution of number of ingredients"
   ]
  },
  {
   "cell_type": "code",
   "execution_count": null,
   "id": "46c2ec15",
   "metadata": {},
   "outputs": [],
   "source": [
    "raw_recipes.hist(column=\"n_ingredients\")"
   ]
  },
  {
   "cell_type": "code",
   "execution_count": null,
   "id": "6e9a94b2",
   "metadata": {},
   "outputs": [],
   "source": [
    "print(\"The average number of ingredients for a recipe is \", raw_recipes[\"n_ingredients\"].mean())"
   ]
  },
  {
   "cell_type": "markdown",
   "id": "910e76af",
   "metadata": {},
   "source": [
    "### Time of preparation for recipies"
   ]
  },
  {
   "cell_type": "code",
   "execution_count": null,
   "id": "d05b2a68",
   "metadata": {},
   "outputs": [],
   "source": [
    "raw_recipes.hist(column=\"minutes\")"
   ]
  },
  {
   "cell_type": "code",
   "execution_count": null,
   "id": "4b703d81",
   "metadata": {},
   "outputs": [],
   "source": [
    "print(\"The average time for preparation of a recipe is \", raw_recipes[\"minutes\"].mean())"
   ]
  },
  {
   "cell_type": "code",
   "execution_count": null,
   "id": "0251f872",
   "metadata": {},
   "outputs": [],
   "source": [
    "raw_recipes[\"minutes\"].max()"
   ]
  },
  {
   "cell_type": "code",
   "execution_count": null,
   "id": "0c261db3",
   "metadata": {},
   "outputs": [],
   "source": [
    "raw_recipes[\"minutes\"].min()"
   ]
  },
  {
   "cell_type": "code",
   "execution_count": null,
   "id": "9bf06bfd",
   "metadata": {},
   "outputs": [],
   "source": [
    "raw_recipes[\"minutes\"].median()"
   ]
  },
  {
   "cell_type": "markdown",
   "id": "6228b66e",
   "metadata": {},
   "source": [
    "# Data filtering"
   ]
  },
  {
   "cell_type": "code",
   "execution_count": null,
   "id": "64b17c5c",
   "metadata": {},
   "outputs": [],
   "source": [
    "def filter_by_ingredients(df, ingredients):\n",
    "    '''\n",
    "    function returns only those recipes which consist of not more than the specified ingredients\n",
    "    '''\n",
    "    \n",
    "    print(\"Search for recipes using \", ingredients)\n",
    "    \n",
    "    # return recipes in which ingredients occur\n",
    "    mask = [set(ingredients).issubset(x) for x in df['ingredients']]\n",
    "    \n",
    "    # return recipes which consist of not more than the mentioned ingredients\n",
    "    mask = [set(x).issubset(ingredients) for x in df['ingredients']]\n",
    "    \n",
    "    return df[mask]"
   ]
  },
  {
   "cell_type": "code",
   "execution_count": null,
   "id": "c807d9e5",
   "metadata": {},
   "outputs": [],
   "source": [
    "my_ingredients = ['winter squash', 'mexican seasoning', 'mixed spice', 'honey', 'butter', 'olive oil', 'salt']\n",
    "#my_ingredients = ['salt']\n",
    "my_ingredients = ['salt', 'pasta', 'tomato']\n",
    "my_df = filter_by_ingredients(df=raw_recipes, ingredients=my_ingredients)\n",
    "print(\"Found \", len(my_df), \" recipes.\")\n",
    "my_df.head(3)"
   ]
  },
  {
   "cell_type": "code",
   "execution_count": null,
   "id": "0b061f0a",
   "metadata": {},
   "outputs": [],
   "source": [
    "raw_recipes[\"ingredients\"][20]"
   ]
  },
  {
   "cell_type": "code",
   "execution_count": null,
   "id": "3d8686b5",
   "metadata": {},
   "outputs": [],
   "source": []
  },
  {
   "cell_type": "markdown",
   "id": "ae9a0599",
   "metadata": {},
   "source": [
    "# Content Based Recommender"
   ]
  },
  {
   "cell_type": "markdown",
   "id": "7d69370e",
   "metadata": {},
   "source": [
    "## Define functions"
   ]
  },
  {
   "cell_type": "code",
   "execution_count": 2,
   "id": "5639438e",
   "metadata": {},
   "outputs": [],
   "source": [
    "def concat_ingredients(df):\n",
    "    '''\n",
    "    concatenates list of ingredients strings to one string\n",
    "    '''\n",
    "    \n",
    "    df['ingredients'] = [' '.join(x) for x in df['ingredients']]\n",
    "    \n",
    "    return df\n",
    "    "
   ]
  },
  {
   "cell_type": "code",
   "execution_count": 3,
   "id": "6325cf8b",
   "metadata": {},
   "outputs": [],
   "source": [
    "def add_dummy_recipe(df, ingredients):\n",
    "    '''\n",
    "    - adds a dummy recipe to the dataframe of recipes consisting of the input ingredients\n",
    "    - concatenates list of ingredient strings to one string\n",
    "    \n",
    "    Arguments:\n",
    "    df -- dataframe of recipes\n",
    "    ingredients -- ingredients to be used for dummy recipe\n",
    "    \n",
    "    Returns:\n",
    "    df -- df with included dummy recipe\n",
    "    idx_dummy -- value of the id column of the dummy recipe\n",
    "    '''\n",
    "    id_dummy = df[\"id\"].max()+1\n",
    "    dummy = {\"id\":id_dummy,\n",
    "             \"name\":\"dummy\", \n",
    "             \"minutes\":30, \n",
    "             \"ingredients\":ingredients}\n",
    "    \n",
    "    dummy_data = pd.Series(dummy)\n",
    "    \n",
    "    df = df.append(dummy_data, ignore_index=True)\n",
    "    \n",
    "    idx_dummy = len(df) - 1\n",
    "    \n",
    "    # concatenate strings of ingredients lists\n",
    "    df = concat_ingredients(df)\n",
    "    \n",
    "    return df, idx_dummy"
   ]
  },
  {
   "cell_type": "code",
   "execution_count": 45,
   "id": "35e44edb",
   "metadata": {},
   "outputs": [],
   "source": [
    "def get_recommendations(my_ingredients):\n",
    "    \n",
    "    # 1) Load recepe data\n",
    "    raw_recipes = pd.read_csv(data_path + \"RAW_recipes.csv\", converters={'ingredients': ast.literal_eval})\n",
    "    print(\"Total number of recipes: \", len(raw_recipes))\n",
    "    raw_recipes.head(5)\n",
    "    \n",
    "    \n",
    "    # 1.1) Exclude recipes with to many ingredients\n",
    "    raw_recipes = raw_recipes[raw_recipes[\"n_ingredients\"] < 1.5*len(my_ingredients)]\n",
    "    \n",
    "    \n",
    "    \n",
    "    # 1.1) get random subset of data\n",
    "    selection = [\"name\", \"id\", \"minutes\", \"ingredients\"]\n",
    "    if len(df) > 30000:\n",
    "        df = raw_recipes[selection].sample(30000)\n",
    "    \n",
    "    # 2) add dummy recipe built from input to dataframe\n",
    "    df, idx_dummy = add_dummy_recipe(df=df, ingredients=my_ingredients)\n",
    "    #print(\"max id = \", df[\"id\"].max())\n",
    "    #print(\"idx_dummy = \", idx_dummy)\n",
    "    #print(\"Length of dataframe: \", len(df))\n",
    "    \n",
    "    # 3) calculate cosine similarities\n",
    "    tfidf = TfidfVectorizer()\n",
    "    #Construct the required TF-IDF matrix by fitting and transforming the data\n",
    "    tfidf_matrix = tfidf.fit_transform(df['ingredients'])\n",
    "    # Compute the cosine similarity matrix\n",
    "    cosine_sim = linear_kernel(tfidf_matrix, tfidf_matrix)\n",
    "    #print(\"Shape of cosine sim matrix: \", cosine_sim.shape)\n",
    "    \n",
    "    # 4) get reverse mapping of indices\n",
    "    indices = pd.Series(df.index, index=df['ingredients']).drop_duplicates()\n",
    "    \n",
    "    # 5) get pairwise similarity scores and sort recipes based on them\n",
    "    sim_scores = list(enumerate(cosine_sim[idx_dummy]))\n",
    "    sim_scores = sorted(sim_scores, key=lambda x: x[1], reverse=True)\n",
    "    \n",
    "    # 6) Select top 10 recommendations \n",
    "    sim_scores = sim_scores[1:11] # first one is dummy recipe itself\n",
    "    # Get the recipe indices\n",
    "    recipe_indices = [i[0] for i in sim_scores]\n",
    "    # Return the top 10 most similar recipes\n",
    "    recommendation_df = raw_recipes.iloc[recipe_indices]\n",
    "    \n",
    "    return recommendation_df\n",
    "    \n",
    "    "
   ]
  },
  {
   "cell_type": "markdown",
   "id": "eab6ca90",
   "metadata": {},
   "source": [
    "## Get recommendations"
   ]
  },
  {
   "cell_type": "code",
   "execution_count": 51,
   "id": "897a5d37",
   "metadata": {},
   "outputs": [
    {
     "name": "stdout",
     "output_type": "stream",
     "text": [
      "Total number of recipes:  231637\n"
     ]
    }
   ],
   "source": [
    "my_ingredients = ['Sugar', 'Butter', 'corn', 'Salt', 'Pepper']\n",
    "recommendations = get_recommendations(my_ingredients)"
   ]
  },
  {
   "cell_type": "code",
   "execution_count": 52,
   "id": "52b1dd39",
   "metadata": {},
   "outputs": [
    {
     "name": "stdout",
     "output_type": "stream",
     "text": [
      "['skim milk', 'cinnamon', 'bananas', 'coffee ice cubes', 'splenda sugar substitute']\n",
      "\n",
      "-------------------------\n",
      "['semi-sweet chocolate chips', 'vanilla chip', 'butter', 'powdered sugar', 'baileys irish cream', 'nuts']\n",
      "\n",
      "-------------------------\n",
      "['frozen strawberries', 'milk', 'heavy cream', 'sour cream', 'sugar', 'mint']\n",
      "\n",
      "-------------------------\n",
      "['96% lean ground beef', 'salt', 'center-cut bacon', 'light hamburger bun', 'reduced-fat swiss cheese', 'red onion', 'barbecue sauce']\n",
      "\n",
      "-------------------------\n",
      "['vanilla ice cream', 'milk', 'cream', 'cinnamon extract', 'cinnamon', 'nutmeg', 'whipped cream']\n",
      "\n",
      "-------------------------\n",
      "['semisweet baking chocolate', 'butter', 'eggs', 'sugar', 'brandy', 'peak freen sweet-meal biscuits', 'whole toasted hazelnuts']\n",
      "\n",
      "-------------------------\n",
      "['banana', 'strawberry', 'raspberries', 'orange', 'soymilk', 'slivered almonds']\n",
      "\n",
      "-------------------------\n",
      "['lean stewing beef', 'condensed golden mushroom soup', 'cream of mushroom soup', 'sliced mushrooms', 'onion soup mix', 'dry red wine']\n",
      "\n",
      "-------------------------\n",
      "['buttermilk baking mix', 'milk', 'sharp cheddar cheese', 'margarine', 'garlic powder']\n",
      "\n",
      "-------------------------\n",
      "['refrigerated crescent dinner rolls', 'brown sugar', 'butter', 'pecans', 'semi-sweet chocolate chips', 'toffee pieces']\n",
      "\n",
      "-------------------------\n"
     ]
    }
   ],
   "source": [
    "for ingredients in recommendations['ingredients']:\n",
    "    print(ingredients)\n",
    "    print(\"\")\n",
    "    #print(recommendations.iloc[idx]['ingredients'])\n",
    "    print(\"-------------------------\")"
   ]
  },
  {
   "cell_type": "code",
   "execution_count": 68,
   "id": "07e2193e",
   "metadata": {},
   "outputs": [
    {
     "data": {
      "text/plain": [
       "name                                          brazilian shake it up\n",
       "id                                                           315558\n",
       "minutes                                                           5\n",
       "contributor_id                                               169430\n",
       "submitted                                                2008-07-24\n",
       "tags              ['15-minutes-or-less', 'time-to-make', 'course...\n",
       "nutrition                  [158.7, 1.0, 57.0, 3.0, 12.0, 1.0, 11.0]\n",
       "n_steps                                                           1\n",
       "steps             ['blend all the ingredients in a blender and s...\n",
       "description       a delicious shake drink without the ice cream....\n",
       "ingredients       [skim milk, cinnamon, bananas, coffee ice cube...\n",
       "n_ingredients                                                     5\n",
       "Name: 28018, dtype: object"
      ]
     },
     "execution_count": 68,
     "metadata": {},
     "output_type": "execute_result"
    }
   ],
   "source": [
    "recommendations.iloc[0]"
   ]
  },
  {
   "cell_type": "code",
   "execution_count": 64,
   "id": "3dbd355f",
   "metadata": {},
   "outputs": [
    {
     "data": {
      "text/plain": [
       "'brazilian shake it up'"
      ]
     },
     "execution_count": 64,
     "metadata": {},
     "output_type": "execute_result"
    }
   ],
   "source": [
    "recommendations.iloc[0][\"name\"]"
   ]
  },
  {
   "cell_type": "code",
   "execution_count": 66,
   "id": "3dc08a98",
   "metadata": {},
   "outputs": [
    {
     "data": {
      "text/plain": [
       "['skim milk',\n",
       " 'cinnamon',\n",
       " 'bananas',\n",
       " 'coffee ice cubes',\n",
       " 'splenda sugar substitute']"
      ]
     },
     "execution_count": 66,
     "metadata": {},
     "output_type": "execute_result"
    }
   ],
   "source": [
    "recommendations.iloc[0]['ingredients']"
   ]
  },
  {
   "cell_type": "code",
   "execution_count": 69,
   "id": "7626bfad",
   "metadata": {},
   "outputs": [
    {
     "data": {
      "text/plain": [
       "\"['blend all the ingredients in a blender and serve in two frosty glasses']\""
      ]
     },
     "execution_count": 69,
     "metadata": {},
     "output_type": "execute_result"
    }
   ],
   "source": [
    "recommendations.iloc[0]['steps']"
   ]
  },
  {
   "cell_type": "code",
   "execution_count": null,
   "id": "3b8370ef",
   "metadata": {},
   "outputs": [],
   "source": []
  },
  {
   "cell_type": "markdown",
   "id": "9e6ab917",
   "metadata": {},
   "source": [
    "## Test function step wise"
   ]
  },
  {
   "cell_type": "markdown",
   "id": "eed2d831",
   "metadata": {},
   "source": [
    "### Load dataframe"
   ]
  },
  {
   "cell_type": "code",
   "execution_count": 53,
   "id": "5ea6237b",
   "metadata": {},
   "outputs": [
    {
     "name": "stdout",
     "output_type": "stream",
     "text": [
      "Total number of recipes:  231637\n"
     ]
    },
    {
     "data": {
      "text/html": [
       "<div>\n",
       "<style scoped>\n",
       "    .dataframe tbody tr th:only-of-type {\n",
       "        vertical-align: middle;\n",
       "    }\n",
       "\n",
       "    .dataframe tbody tr th {\n",
       "        vertical-align: top;\n",
       "    }\n",
       "\n",
       "    .dataframe thead th {\n",
       "        text-align: right;\n",
       "    }\n",
       "</style>\n",
       "<table border=\"1\" class=\"dataframe\">\n",
       "  <thead>\n",
       "    <tr style=\"text-align: right;\">\n",
       "      <th></th>\n",
       "      <th>name</th>\n",
       "      <th>id</th>\n",
       "      <th>minutes</th>\n",
       "      <th>contributor_id</th>\n",
       "      <th>submitted</th>\n",
       "      <th>tags</th>\n",
       "      <th>nutrition</th>\n",
       "      <th>n_steps</th>\n",
       "      <th>steps</th>\n",
       "      <th>description</th>\n",
       "      <th>ingredients</th>\n",
       "      <th>n_ingredients</th>\n",
       "    </tr>\n",
       "  </thead>\n",
       "  <tbody>\n",
       "    <tr>\n",
       "      <th>0</th>\n",
       "      <td>arriba   baked winter squash mexican style</td>\n",
       "      <td>137739</td>\n",
       "      <td>55</td>\n",
       "      <td>47892</td>\n",
       "      <td>2005-09-16</td>\n",
       "      <td>['60-minutes-or-less', 'time-to-make', 'course...</td>\n",
       "      <td>[51.5, 0.0, 13.0, 0.0, 2.0, 0.0, 4.0]</td>\n",
       "      <td>11</td>\n",
       "      <td>['make a choice and proceed with recipe', 'dep...</td>\n",
       "      <td>autumn is my favorite time of year to cook! th...</td>\n",
       "      <td>[winter squash, mexican seasoning, mixed spice...</td>\n",
       "      <td>7</td>\n",
       "    </tr>\n",
       "    <tr>\n",
       "      <th>1</th>\n",
       "      <td>a bit different  breakfast pizza</td>\n",
       "      <td>31490</td>\n",
       "      <td>30</td>\n",
       "      <td>26278</td>\n",
       "      <td>2002-06-17</td>\n",
       "      <td>['30-minutes-or-less', 'time-to-make', 'course...</td>\n",
       "      <td>[173.4, 18.0, 0.0, 17.0, 22.0, 35.0, 1.0]</td>\n",
       "      <td>9</td>\n",
       "      <td>['preheat oven to 425 degrees f', 'press dough...</td>\n",
       "      <td>this recipe calls for the crust to be prebaked...</td>\n",
       "      <td>[prepared pizza crust, sausage patty, eggs, mi...</td>\n",
       "      <td>6</td>\n",
       "    </tr>\n",
       "    <tr>\n",
       "      <th>2</th>\n",
       "      <td>all in the kitchen  chili</td>\n",
       "      <td>112140</td>\n",
       "      <td>130</td>\n",
       "      <td>196586</td>\n",
       "      <td>2005-02-25</td>\n",
       "      <td>['time-to-make', 'course', 'preparation', 'mai...</td>\n",
       "      <td>[269.8, 22.0, 32.0, 48.0, 39.0, 27.0, 5.0]</td>\n",
       "      <td>6</td>\n",
       "      <td>['brown ground beef in large pot', 'add choppe...</td>\n",
       "      <td>this modified version of 'mom's' chili was a h...</td>\n",
       "      <td>[ground beef, yellow onions, diced tomatoes, t...</td>\n",
       "      <td>13</td>\n",
       "    </tr>\n",
       "    <tr>\n",
       "      <th>3</th>\n",
       "      <td>alouette  potatoes</td>\n",
       "      <td>59389</td>\n",
       "      <td>45</td>\n",
       "      <td>68585</td>\n",
       "      <td>2003-04-14</td>\n",
       "      <td>['60-minutes-or-less', 'time-to-make', 'course...</td>\n",
       "      <td>[368.1, 17.0, 10.0, 2.0, 14.0, 8.0, 20.0]</td>\n",
       "      <td>11</td>\n",
       "      <td>['place potatoes in a large pot of lightly sal...</td>\n",
       "      <td>this is a super easy, great tasting, make ahea...</td>\n",
       "      <td>[spreadable cheese with garlic and herbs, new ...</td>\n",
       "      <td>11</td>\n",
       "    </tr>\n",
       "    <tr>\n",
       "      <th>4</th>\n",
       "      <td>amish  tomato ketchup  for canning</td>\n",
       "      <td>44061</td>\n",
       "      <td>190</td>\n",
       "      <td>41706</td>\n",
       "      <td>2002-10-25</td>\n",
       "      <td>['weeknight', 'time-to-make', 'course', 'main-...</td>\n",
       "      <td>[352.9, 1.0, 337.0, 23.0, 3.0, 0.0, 28.0]</td>\n",
       "      <td>5</td>\n",
       "      <td>['mix all ingredients&amp; boil for 2 1 / 2 hours ...</td>\n",
       "      <td>my dh's amish mother raised him on this recipe...</td>\n",
       "      <td>[tomato juice, apple cider vinegar, sugar, sal...</td>\n",
       "      <td>8</td>\n",
       "    </tr>\n",
       "  </tbody>\n",
       "</table>\n",
       "</div>"
      ],
      "text/plain": [
       "                                         name      id  minutes  \\\n",
       "0  arriba   baked winter squash mexican style  137739       55   \n",
       "1            a bit different  breakfast pizza   31490       30   \n",
       "2                   all in the kitchen  chili  112140      130   \n",
       "3                          alouette  potatoes   59389       45   \n",
       "4          amish  tomato ketchup  for canning   44061      190   \n",
       "\n",
       "   contributor_id   submitted  \\\n",
       "0           47892  2005-09-16   \n",
       "1           26278  2002-06-17   \n",
       "2          196586  2005-02-25   \n",
       "3           68585  2003-04-14   \n",
       "4           41706  2002-10-25   \n",
       "\n",
       "                                                tags  \\\n",
       "0  ['60-minutes-or-less', 'time-to-make', 'course...   \n",
       "1  ['30-minutes-or-less', 'time-to-make', 'course...   \n",
       "2  ['time-to-make', 'course', 'preparation', 'mai...   \n",
       "3  ['60-minutes-or-less', 'time-to-make', 'course...   \n",
       "4  ['weeknight', 'time-to-make', 'course', 'main-...   \n",
       "\n",
       "                                    nutrition  n_steps  \\\n",
       "0       [51.5, 0.0, 13.0, 0.0, 2.0, 0.0, 4.0]       11   \n",
       "1   [173.4, 18.0, 0.0, 17.0, 22.0, 35.0, 1.0]        9   \n",
       "2  [269.8, 22.0, 32.0, 48.0, 39.0, 27.0, 5.0]        6   \n",
       "3   [368.1, 17.0, 10.0, 2.0, 14.0, 8.0, 20.0]       11   \n",
       "4   [352.9, 1.0, 337.0, 23.0, 3.0, 0.0, 28.0]        5   \n",
       "\n",
       "                                               steps  \\\n",
       "0  ['make a choice and proceed with recipe', 'dep...   \n",
       "1  ['preheat oven to 425 degrees f', 'press dough...   \n",
       "2  ['brown ground beef in large pot', 'add choppe...   \n",
       "3  ['place potatoes in a large pot of lightly sal...   \n",
       "4  ['mix all ingredients& boil for 2 1 / 2 hours ...   \n",
       "\n",
       "                                         description  \\\n",
       "0  autumn is my favorite time of year to cook! th...   \n",
       "1  this recipe calls for the crust to be prebaked...   \n",
       "2  this modified version of 'mom's' chili was a h...   \n",
       "3  this is a super easy, great tasting, make ahea...   \n",
       "4  my dh's amish mother raised him on this recipe...   \n",
       "\n",
       "                                         ingredients  n_ingredients  \n",
       "0  [winter squash, mexican seasoning, mixed spice...              7  \n",
       "1  [prepared pizza crust, sausage patty, eggs, mi...              6  \n",
       "2  [ground beef, yellow onions, diced tomatoes, t...             13  \n",
       "3  [spreadable cheese with garlic and herbs, new ...             11  \n",
       "4  [tomato juice, apple cider vinegar, sugar, sal...              8  "
      ]
     },
     "execution_count": 53,
     "metadata": {},
     "output_type": "execute_result"
    }
   ],
   "source": [
    "# need to convert string representation of ingredients list to list using ast\n",
    "#raw_recipes = pd.read_csv(data_path + \"RAW_recipes.csv\")\n",
    "raw_recipes = pd.read_csv(data_path + \"RAW_recipes.csv\", converters={'ingredients': ast.literal_eval})\n",
    "print(\"Total number of recipes: \", len(raw_recipes))\n",
    "raw_recipes.head(5)"
   ]
  },
  {
   "cell_type": "markdown",
   "id": "1a52a775",
   "metadata": {},
   "source": [
    "### reduce dataframe"
   ]
  },
  {
   "cell_type": "code",
   "execution_count": 54,
   "id": "d32ef47e",
   "metadata": {},
   "outputs": [],
   "source": [
    "selection = [\"name\", \"id\", \"minutes\", \"ingredients\"]\n",
    "df = raw_recipes[selection].sample(30000)\n",
    "#df = raw_recipes[selection]"
   ]
  },
  {
   "cell_type": "markdown",
   "id": "3af6420f",
   "metadata": {},
   "source": [
    "### add dummy recipe from ingredients to dataframe"
   ]
  },
  {
   "cell_type": "code",
   "execution_count": 55,
   "id": "67d77885",
   "metadata": {},
   "outputs": [],
   "source": [
    "my_ingredients=['squash', 'mexican seasoning']\n",
    "my_ingredients=['tomato', 'onion', 'garlic']"
   ]
  },
  {
   "cell_type": "code",
   "execution_count": 56,
   "id": "3939239a",
   "metadata": {},
   "outputs": [
    {
     "name": "stdout",
     "output_type": "stream",
     "text": [
      "max id =  537486\n",
      "idx_dummy =  30000\n",
      "Length of dataframe:  30001\n"
     ]
    },
    {
     "data": {
      "text/html": [
       "<div>\n",
       "<style scoped>\n",
       "    .dataframe tbody tr th:only-of-type {\n",
       "        vertical-align: middle;\n",
       "    }\n",
       "\n",
       "    .dataframe tbody tr th {\n",
       "        vertical-align: top;\n",
       "    }\n",
       "\n",
       "    .dataframe thead th {\n",
       "        text-align: right;\n",
       "    }\n",
       "</style>\n",
       "<table border=\"1\" class=\"dataframe\">\n",
       "  <thead>\n",
       "    <tr style=\"text-align: right;\">\n",
       "      <th></th>\n",
       "      <th>name</th>\n",
       "      <th>id</th>\n",
       "      <th>minutes</th>\n",
       "      <th>ingredients</th>\n",
       "    </tr>\n",
       "  </thead>\n",
       "  <tbody>\n",
       "    <tr>\n",
       "      <th>29995</th>\n",
       "      <td>steak   mushroom hoagies</td>\n",
       "      <td>37184</td>\n",
       "      <td>25</td>\n",
       "      <td>steak whole mushrooms vidalia onion green pepp...</td>\n",
       "    </tr>\n",
       "    <tr>\n",
       "      <th>29996</th>\n",
       "      <td>slow cooker arroz con pollo</td>\n",
       "      <td>278551</td>\n",
       "      <td>485</td>\n",
       "      <td>whole chickens italian-style stewed tomatoes f...</td>\n",
       "    </tr>\n",
       "    <tr>\n",
       "      <th>29997</th>\n",
       "      <td>pf chang s chicken lettuce wraps</td>\n",
       "      <td>137175</td>\n",
       "      <td>55</td>\n",
       "      <td>cornstarch sherry wine water soy sauce boneles...</td>\n",
       "    </tr>\n",
       "    <tr>\n",
       "      <th>29998</th>\n",
       "      <td>peanut butter bites</td>\n",
       "      <td>47451</td>\n",
       "      <td>75</td>\n",
       "      <td>whole wheat bread creamy peanut butter vegetab...</td>\n",
       "    </tr>\n",
       "    <tr>\n",
       "      <th>29999</th>\n",
       "      <td>cranberry croquettes  or fritters</td>\n",
       "      <td>395139</td>\n",
       "      <td>45</td>\n",
       "      <td>flour baking powder salt egg milk lemon juice ...</td>\n",
       "    </tr>\n",
       "    <tr>\n",
       "      <th>30000</th>\n",
       "      <td>dummy</td>\n",
       "      <td>537486</td>\n",
       "      <td>30</td>\n",
       "      <td>tomato onion garlic</td>\n",
       "    </tr>\n",
       "  </tbody>\n",
       "</table>\n",
       "</div>"
      ],
      "text/plain": [
       "                                    name      id  minutes  \\\n",
       "29995           steak   mushroom hoagies   37184       25   \n",
       "29996        slow cooker arroz con pollo  278551      485   \n",
       "29997   pf chang s chicken lettuce wraps  137175       55   \n",
       "29998                peanut butter bites   47451       75   \n",
       "29999  cranberry croquettes  or fritters  395139       45   \n",
       "30000                              dummy  537486       30   \n",
       "\n",
       "                                             ingredients  \n",
       "29995  steak whole mushrooms vidalia onion green pepp...  \n",
       "29996  whole chickens italian-style stewed tomatoes f...  \n",
       "29997  cornstarch sherry wine water soy sauce boneles...  \n",
       "29998  whole wheat bread creamy peanut butter vegetab...  \n",
       "29999  flour baking powder salt egg milk lemon juice ...  \n",
       "30000                                tomato onion garlic  "
      ]
     },
     "execution_count": 56,
     "metadata": {},
     "output_type": "execute_result"
    }
   ],
   "source": [
    "df, idx_dummy = add_dummy_recipe(df=df, ingredients=my_ingredients)\n",
    "\n",
    "print(\"max id = \", df[\"id\"].max())\n",
    "print(\"idx_dummy = \", idx_dummy)\n",
    "print(\"Length of dataframe: \", len(df))\n",
    "\n",
    "#df[df[\"id\"] == df[\"id\"].max()]\n",
    "df.tail(6)"
   ]
  },
  {
   "cell_type": "code",
   "execution_count": 58,
   "id": "c059a561",
   "metadata": {},
   "outputs": [
    {
     "data": {
      "text/plain": [
       "'tomatoes herbs fresh parmesan cheese garlic cloves olive oil pepper'"
      ]
     },
     "execution_count": 58,
     "metadata": {},
     "output_type": "execute_result"
    }
   ],
   "source": [
    "df.iloc[110][\"ingredients\"]"
   ]
  },
  {
   "cell_type": "markdown",
   "id": "98c76ae1",
   "metadata": {},
   "source": [
    "### calculate cosine similarities"
   ]
  },
  {
   "cell_type": "code",
   "execution_count": 12,
   "id": "b754fe8e",
   "metadata": {},
   "outputs": [],
   "source": [
    "tfidf = TfidfVectorizer()\n",
    "#Construct the required TF-IDF matrix by fitting and transforming the data\n",
    "tfidf_matrix = tfidf.fit_transform(df['ingredients'])\n",
    "# Compute the cosine similarity matrix\n",
    "cosine_sim = linear_kernel(tfidf_matrix, tfidf_matrix)\n",
    "print(\"Shape of cosine sim matrix: \", cosine_sim.shape)"
   ]
  },
  {
   "cell_type": "markdown",
   "id": "76c403d0",
   "metadata": {},
   "source": [
    "### get reverse mapping of indices"
   ]
  },
  {
   "cell_type": "code",
   "execution_count": 14,
   "id": "a18920bd",
   "metadata": {},
   "outputs": [],
   "source": [
    "#indices = pd.Series(df.index, index=df['ingredients']).drop_duplicates()\n",
    "indices = pd.Series(df.index, index=df['ingredients'])\n",
    "#indices"
   ]
  },
  {
   "cell_type": "markdown",
   "id": "c090493a",
   "metadata": {},
   "source": [
    "### get pairwise similarity scores of all recipes with dummy recipe"
   ]
  },
  {
   "cell_type": "code",
   "execution_count": 15,
   "id": "3aa12c9e",
   "metadata": {},
   "outputs": [],
   "source": [
    "sim_scores = list(enumerate(cosine_sim[idx_dummy]))"
   ]
  },
  {
   "cell_type": "markdown",
   "id": "506bc42f",
   "metadata": {},
   "source": [
    "### sort recipes based on the similarity scores"
   ]
  },
  {
   "cell_type": "code",
   "execution_count": 16,
   "id": "081af6a6",
   "metadata": {},
   "outputs": [],
   "source": [
    "sim_scores = sorted(sim_scores, key=lambda x: x[1], reverse=True)"
   ]
  },
  {
   "cell_type": "markdown",
   "id": "2ffc8a00",
   "metadata": {},
   "source": [
    "### print out top recommendations"
   ]
  },
  {
   "cell_type": "code",
   "execution_count": 17,
   "id": "337fe7ad",
   "metadata": {},
   "outputs": [
    {
     "data": {
      "text/html": [
       "<div>\n",
       "<style scoped>\n",
       "    .dataframe tbody tr th:only-of-type {\n",
       "        vertical-align: middle;\n",
       "    }\n",
       "\n",
       "    .dataframe tbody tr th {\n",
       "        vertical-align: top;\n",
       "    }\n",
       "\n",
       "    .dataframe thead th {\n",
       "        text-align: right;\n",
       "    }\n",
       "</style>\n",
       "<table border=\"1\" class=\"dataframe\">\n",
       "  <thead>\n",
       "    <tr style=\"text-align: right;\">\n",
       "      <th></th>\n",
       "      <th>name</th>\n",
       "      <th>id</th>\n",
       "      <th>minutes</th>\n",
       "      <th>ingredients</th>\n",
       "    </tr>\n",
       "  </thead>\n",
       "  <tbody>\n",
       "    <tr>\n",
       "      <th>9522</th>\n",
       "      <td>no meat baked spaghetti</td>\n",
       "      <td>140073</td>\n",
       "      <td>75</td>\n",
       "      <td>spaghetti green pepper onion tomato soup tomat...</td>\n",
       "    </tr>\n",
       "    <tr>\n",
       "      <th>22797</th>\n",
       "      <td>texas style salsa</td>\n",
       "      <td>16821</td>\n",
       "      <td>10</td>\n",
       "      <td>diced tomato onion jalapeno pepper tomato sauc...</td>\n",
       "    </tr>\n",
       "    <tr>\n",
       "      <th>12280</th>\n",
       "      <td>spaghetti skillet</td>\n",
       "      <td>37581</td>\n",
       "      <td>70</td>\n",
       "      <td>ground beef onion garlic tomato juice water to...</td>\n",
       "    </tr>\n",
       "    <tr>\n",
       "      <th>23585</th>\n",
       "      <td>off the boat  sicilian pasta sauce</td>\n",
       "      <td>174469</td>\n",
       "      <td>85</td>\n",
       "      <td>fresh onion olive oil tomato sauce salt pepper</td>\n",
       "    </tr>\n",
       "    <tr>\n",
       "      <th>17188</th>\n",
       "      <td>40 minute chili</td>\n",
       "      <td>208407</td>\n",
       "      <td>60</td>\n",
       "      <td>hamburger onion beans tomato soup tomato juice...</td>\n",
       "    </tr>\n",
       "    <tr>\n",
       "      <th>17410</th>\n",
       "      <td>mamma mia meat sauce</td>\n",
       "      <td>113813</td>\n",
       "      <td>165</td>\n",
       "      <td>ground beef tomato sauce tomato paste olive oi...</td>\n",
       "    </tr>\n",
       "    <tr>\n",
       "      <th>7703</th>\n",
       "      <td>roast pepper and chicken</td>\n",
       "      <td>355339</td>\n",
       "      <td>80</td>\n",
       "      <td>chicken legs bell peppers red onion garlic clo...</td>\n",
       "    </tr>\n",
       "    <tr>\n",
       "      <th>16679</th>\n",
       "      <td>christie s spaghetti and meatballs</td>\n",
       "      <td>223649</td>\n",
       "      <td>30</td>\n",
       "      <td>minced beef onion breadcrumbs nutmeg salt pepp...</td>\n",
       "    </tr>\n",
       "    <tr>\n",
       "      <th>2132</th>\n",
       "      <td>garlicky pasta sauce</td>\n",
       "      <td>179913</td>\n",
       "      <td>40</td>\n",
       "      <td>olive oil garlic cloves tomato sauce tomato pa...</td>\n",
       "    </tr>\n",
       "    <tr>\n",
       "      <th>11472</th>\n",
       "      <td>frank s spaghetti</td>\n",
       "      <td>279272</td>\n",
       "      <td>45</td>\n",
       "      <td>onion olive oil garlic basil sliced mushrooms ...</td>\n",
       "    </tr>\n",
       "  </tbody>\n",
       "</table>\n",
       "</div>"
      ],
      "text/plain": [
       "                                     name      id  minutes  \\\n",
       "9522              no meat baked spaghetti  140073       75   \n",
       "22797                   texas style salsa   16821       10   \n",
       "12280                   spaghetti skillet   37581       70   \n",
       "23585  off the boat  sicilian pasta sauce  174469       85   \n",
       "17188                     40 minute chili  208407       60   \n",
       "17410                mamma mia meat sauce  113813      165   \n",
       "7703             roast pepper and chicken  355339       80   \n",
       "16679  christie s spaghetti and meatballs  223649       30   \n",
       "2132                 garlicky pasta sauce  179913       40   \n",
       "11472                   frank s spaghetti  279272       45   \n",
       "\n",
       "                                             ingredients  \n",
       "9522   spaghetti green pepper onion tomato soup tomat...  \n",
       "22797  diced tomato onion jalapeno pepper tomato sauc...  \n",
       "12280  ground beef onion garlic tomato juice water to...  \n",
       "23585     fresh onion olive oil tomato sauce salt pepper  \n",
       "17188  hamburger onion beans tomato soup tomato juice...  \n",
       "17410  ground beef tomato sauce tomato paste olive oi...  \n",
       "7703   chicken legs bell peppers red onion garlic clo...  \n",
       "16679  minced beef onion breadcrumbs nutmeg salt pepp...  \n",
       "2132   olive oil garlic cloves tomato sauce tomato pa...  \n",
       "11472  onion olive oil garlic basil sliced mushrooms ...  "
      ]
     },
     "execution_count": 17,
     "metadata": {},
     "output_type": "execute_result"
    }
   ],
   "source": [
    "# Get the scores of the 10 most similar recipes\n",
    "sim_scores = sim_scores[1:11]\n",
    "    \n",
    "# Get the recipe indices\n",
    "recipe_indices = [i[0] for i in sim_scores]\n",
    "    \n",
    "# Return the top 10 most similar recipes\n",
    "df.iloc[recipe_indices]"
   ]
  },
  {
   "cell_type": "code",
   "execution_count": 18,
   "id": "5d53c070",
   "metadata": {},
   "outputs": [
    {
     "data": {
      "text/plain": [
       "['tomato', 'onion', 'garlic']"
      ]
     },
     "execution_count": 18,
     "metadata": {},
     "output_type": "execute_result"
    }
   ],
   "source": [
    "my_ingredients"
   ]
  },
  {
   "cell_type": "code",
   "execution_count": 19,
   "id": "dc549bab",
   "metadata": {},
   "outputs": [
    {
     "name": "stdout",
     "output_type": "stream",
     "text": [
      "**Recommended recipe ingredients:**\n",
      "\n",
      "spaghetti green pepper onion tomato soup tomato sauce cheddar cheese garlic powder\n",
      "-------------------------\n",
      "**Recommended recipe ingredients:**\n",
      "\n",
      "diced tomato onion jalapeno pepper tomato sauce garlic salt black pepper cumin chili powder\n",
      "-------------------------\n",
      "**Recommended recipe ingredients:**\n",
      "\n",
      "ground beef onion garlic tomato juice water tomato sauce tomato paste chili powder oregano basil sugar salt pepper thin spaghetti parmesan cheese\n",
      "-------------------------\n",
      "**Recommended recipe ingredients:**\n",
      "\n",
      "fresh onion olive oil tomato sauce salt pepper\n",
      "-------------------------\n",
      "**Recommended recipe ingredients:**\n",
      "\n",
      "hamburger onion beans tomato soup tomato juice water chili powder salt garlic salt pepper paprika\n",
      "-------------------------\n",
      "**Recommended recipe ingredients:**\n",
      "\n",
      "ground beef tomato sauce tomato paste olive oil onion dried parsley dried oregano garlic parmesan cheese salt pepper sugar\n",
      "-------------------------\n",
      "**Recommended recipe ingredients:**\n",
      "\n",
      "chicken legs bell peppers red onion garlic cloves oil tomato paste tomato sauce parsley salt pepper\n",
      "-------------------------\n",
      "**Recommended recipe ingredients:**\n",
      "\n",
      "minced beef onion breadcrumbs nutmeg salt pepper tomato ketchup eggs cinnamon ground cloves oil garlic clove tomato sauce water\n",
      "-------------------------\n",
      "**Recommended recipe ingredients:**\n",
      "\n",
      "olive oil garlic cloves tomato sauce tomato paste dried basil salt fresh ground pepper pasta parmesan cheese\n",
      "-------------------------\n",
      "**Recommended recipe ingredients:**\n",
      "\n",
      "onion olive oil garlic basil sliced mushrooms tomato sauce tomato paste oregano sugar garlic salt parmesan cheese meatballs spaghetti noodles\n",
      "-------------------------\n"
     ]
    }
   ],
   "source": [
    "for idx in recipe_indices:\n",
    "    print(\"**Recommended recipe ingredients:**\")\n",
    "    print(\"\")\n",
    "    print(df.iloc[idx]['ingredients'])\n",
    "    print(\"-------------------------\")"
   ]
  },
  {
   "cell_type": "code",
   "execution_count": null,
   "id": "6b00be9a",
   "metadata": {},
   "outputs": [],
   "source": []
  },
  {
   "cell_type": "code",
   "execution_count": null,
   "id": "3d53567d",
   "metadata": {},
   "outputs": [],
   "source": []
  },
  {
   "cell_type": "code",
   "execution_count": null,
   "id": "a554af0e",
   "metadata": {},
   "outputs": [],
   "source": []
  },
  {
   "cell_type": "code",
   "execution_count": null,
   "id": "660a68a4",
   "metadata": {},
   "outputs": [],
   "source": []
  },
  {
   "cell_type": "code",
   "execution_count": null,
   "id": "636f6118",
   "metadata": {},
   "outputs": [],
   "source": []
  },
  {
   "cell_type": "code",
   "execution_count": null,
   "id": "f0e2097f",
   "metadata": {},
   "outputs": [],
   "source": [
    "#Define a TF-IDF Vectorizer Object. Remove all english stop words such as 'the', 'a'\n",
    "#tfidf = TfidfVectorizer(stop_words='english')\n",
    "tfidf = TfidfVectorizer()"
   ]
  },
  {
   "cell_type": "code",
   "execution_count": null,
   "id": "81dea504",
   "metadata": {},
   "outputs": [],
   "source": [
    "#Replace NaN with an empty string\n",
    "#raw_recipes[\"ingredients\"] = raw_recipes[\"ingredients\"].fillna('')\n",
    "raw_recipes[\"ingredients\"].isna().sum()\n",
    "# we don't have nan values"
   ]
  },
  {
   "cell_type": "code",
   "execution_count": null,
   "id": "ee77461c",
   "metadata": {},
   "outputs": [],
   "source": [
    "#Construct the required TF-IDF matrix by fitting and transforming the data\n",
    "tfidf_matrix = tfidf.fit_transform(raw_recipes[\"ingredients\"].sample(100))\n",
    "\n",
    "# Output the shape of the matrix\n",
    "tfidf_matrix.shape"
   ]
  },
  {
   "cell_type": "markdown",
   "id": "b6fd83ac",
   "metadata": {},
   "source": [
    "## Calculate similarities"
   ]
  },
  {
   "cell_type": "code",
   "execution_count": null,
   "id": "63f4d8c0",
   "metadata": {},
   "outputs": [],
   "source": []
  },
  {
   "cell_type": "code",
   "execution_count": null,
   "id": "e5719f32",
   "metadata": {},
   "outputs": [],
   "source": [
    "# Compute the cosine similarity matrix\n",
    "cosine_sim = linear_kernel(tfidf_matrix, tfidf_matrix)"
   ]
  },
  {
   "cell_type": "code",
   "execution_count": null,
   "id": "35b54946",
   "metadata": {},
   "outputs": [],
   "source": [
    "cosine_sim.shape"
   ]
  },
  {
   "cell_type": "markdown",
   "id": "6384c4a9",
   "metadata": {},
   "source": [
    "We are going to define a function, that constructs a dummy-recipe of the inserted ingredients, calculates the similarities to all the other recipes in the DB and outputs the 10 most similar recipes based on the used ingredients.\n",
    "\n",
    "For this we need a reverse mapping of a recipes ingredients and the DataFrame indices, i.e. a mechanism to identify the index of a recipe in our DataFrame, given its ingredients."
   ]
  },
  {
   "cell_type": "code",
   "execution_count": null,
   "id": "f2cd4b67",
   "metadata": {},
   "outputs": [],
   "source": [
    "indices = pd.Series(raw_recipes.index, index=raw_recipes['ingredients']).drop_duplicates()\n",
    "#indices"
   ]
  },
  {
   "cell_type": "code",
   "execution_count": null,
   "id": "fdc69d7a",
   "metadata": {},
   "outputs": [],
   "source": [
    "df"
   ]
  },
  {
   "cell_type": "code",
   "execution_count": null,
   "id": "0eee7e6d",
   "metadata": {},
   "outputs": [],
   "source": []
  },
  {
   "cell_type": "code",
   "execution_count": null,
   "id": "abee4aef",
   "metadata": {},
   "outputs": [],
   "source": []
  },
  {
   "cell_type": "code",
   "execution_count": null,
   "id": "18a3ad37",
   "metadata": {},
   "outputs": [],
   "source": []
  }
 ],
 "metadata": {
  "kernelspec": {
   "display_name": "Python [conda env:RecRecipe] *",
   "language": "python",
   "name": "conda-env-RecRecipe-py"
  },
  "language_info": {
   "codemirror_mode": {
    "name": "ipython",
    "version": 3
   },
   "file_extension": ".py",
   "mimetype": "text/x-python",
   "name": "python",
   "nbconvert_exporter": "python",
   "pygments_lexer": "ipython3",
   "version": "3.9.7"
  },
  "toc": {
   "base_numbering": 1,
   "nav_menu": {},
   "number_sections": true,
   "sideBar": true,
   "skip_h1_title": false,
   "title_cell": "Table of Contents",
   "title_sidebar": "Contents",
   "toc_cell": false,
   "toc_position": {
    "height": "calc(100% - 180px)",
    "left": "10px",
    "top": "150px",
    "width": "512px"
   },
   "toc_section_display": true,
   "toc_window_display": true
  }
 },
 "nbformat": 4,
 "nbformat_minor": 5
}
