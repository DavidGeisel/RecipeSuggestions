{
 "cells": [
  {
   "cell_type": "code",
   "execution_count": 1,
   "id": "8c96d84f",
   "metadata": {},
   "outputs": [],
   "source": [
    "import numpy as np\n",
    "import pandas as pd\n",
    "import ast\n",
    "import sys\n",
    "# Import linear_kernel\n",
    "from sklearn.metrics.pairwise import linear_kernel\n",
    "\n",
    "from sklearn.feature_extraction.text import CountVectorizer\n",
    "#Import TfIdfVectorizer (scikit-learn)\n",
    "from sklearn.feature_extraction.text import TfidfVectorizer"
   ]
  },
  {
   "cell_type": "code",
   "execution_count": 2,
   "id": "c414e870",
   "metadata": {},
   "outputs": [],
   "source": [
    "# import model functions\n",
    "sys.path.insert(0,'/home/david/Projects/Hackathons/DeveloperWeek2022/RecipeSuggestions/app/')\n",
    "import model"
   ]
  },
  {
   "cell_type": "markdown",
   "id": "1a48e6db",
   "metadata": {},
   "source": [
    "# Load recipe data"
   ]
  },
  {
   "cell_type": "code",
   "execution_count": 3,
   "id": "f0f2b31c",
   "metadata": {},
   "outputs": [
    {
     "data": {
      "text/html": [
       "<div>\n",
       "<style scoped>\n",
       "    .dataframe tbody tr th:only-of-type {\n",
       "        vertical-align: middle;\n",
       "    }\n",
       "\n",
       "    .dataframe tbody tr th {\n",
       "        vertical-align: top;\n",
       "    }\n",
       "\n",
       "    .dataframe thead th {\n",
       "        text-align: right;\n",
       "    }\n",
       "</style>\n",
       "<table border=\"1\" class=\"dataframe\">\n",
       "  <thead>\n",
       "    <tr style=\"text-align: right;\">\n",
       "      <th></th>\n",
       "      <th>name</th>\n",
       "      <th>id</th>\n",
       "      <th>minutes</th>\n",
       "      <th>contributor_id</th>\n",
       "      <th>submitted</th>\n",
       "      <th>tags</th>\n",
       "      <th>nutrition</th>\n",
       "      <th>n_steps</th>\n",
       "      <th>steps</th>\n",
       "      <th>description</th>\n",
       "      <th>ingredients</th>\n",
       "      <th>n_ingredients</th>\n",
       "    </tr>\n",
       "  </thead>\n",
       "  <tbody>\n",
       "    <tr>\n",
       "      <th>0</th>\n",
       "      <td>arriba   baked winter squash mexican style</td>\n",
       "      <td>137739</td>\n",
       "      <td>55</td>\n",
       "      <td>47892</td>\n",
       "      <td>2005-09-16</td>\n",
       "      <td>['60-minutes-or-less', 'time-to-make', 'course...</td>\n",
       "      <td>[51.5, 0.0, 13.0, 0.0, 2.0, 0.0, 4.0]</td>\n",
       "      <td>11</td>\n",
       "      <td>['make a choice and proceed with recipe', 'dep...</td>\n",
       "      <td>autumn is my favorite time of year to cook! th...</td>\n",
       "      <td>[winter squash, mexican seasoning, mixed spice...</td>\n",
       "      <td>7</td>\n",
       "    </tr>\n",
       "    <tr>\n",
       "      <th>1</th>\n",
       "      <td>a bit different  breakfast pizza</td>\n",
       "      <td>31490</td>\n",
       "      <td>30</td>\n",
       "      <td>26278</td>\n",
       "      <td>2002-06-17</td>\n",
       "      <td>['30-minutes-or-less', 'time-to-make', 'course...</td>\n",
       "      <td>[173.4, 18.0, 0.0, 17.0, 22.0, 35.0, 1.0]</td>\n",
       "      <td>9</td>\n",
       "      <td>['preheat oven to 425 degrees f', 'press dough...</td>\n",
       "      <td>this recipe calls for the crust to be prebaked...</td>\n",
       "      <td>[prepared pizza crust, sausage patty, eggs, mi...</td>\n",
       "      <td>6</td>\n",
       "    </tr>\n",
       "    <tr>\n",
       "      <th>2</th>\n",
       "      <td>all in the kitchen  chili</td>\n",
       "      <td>112140</td>\n",
       "      <td>130</td>\n",
       "      <td>196586</td>\n",
       "      <td>2005-02-25</td>\n",
       "      <td>['time-to-make', 'course', 'preparation', 'mai...</td>\n",
       "      <td>[269.8, 22.0, 32.0, 48.0, 39.0, 27.0, 5.0]</td>\n",
       "      <td>6</td>\n",
       "      <td>['brown ground beef in large pot', 'add choppe...</td>\n",
       "      <td>this modified version of 'mom's' chili was a h...</td>\n",
       "      <td>[ground beef, yellow onions, diced tomatoes, t...</td>\n",
       "      <td>13</td>\n",
       "    </tr>\n",
       "    <tr>\n",
       "      <th>3</th>\n",
       "      <td>alouette  potatoes</td>\n",
       "      <td>59389</td>\n",
       "      <td>45</td>\n",
       "      <td>68585</td>\n",
       "      <td>2003-04-14</td>\n",
       "      <td>['60-minutes-or-less', 'time-to-make', 'course...</td>\n",
       "      <td>[368.1, 17.0, 10.0, 2.0, 14.0, 8.0, 20.0]</td>\n",
       "      <td>11</td>\n",
       "      <td>['place potatoes in a large pot of lightly sal...</td>\n",
       "      <td>this is a super easy, great tasting, make ahea...</td>\n",
       "      <td>[spreadable cheese with garlic and herbs, new ...</td>\n",
       "      <td>11</td>\n",
       "    </tr>\n",
       "    <tr>\n",
       "      <th>4</th>\n",
       "      <td>amish  tomato ketchup  for canning</td>\n",
       "      <td>44061</td>\n",
       "      <td>190</td>\n",
       "      <td>41706</td>\n",
       "      <td>2002-10-25</td>\n",
       "      <td>['weeknight', 'time-to-make', 'course', 'main-...</td>\n",
       "      <td>[352.9, 1.0, 337.0, 23.0, 3.0, 0.0, 28.0]</td>\n",
       "      <td>5</td>\n",
       "      <td>['mix all ingredients&amp; boil for 2 1 / 2 hours ...</td>\n",
       "      <td>my dh's amish mother raised him on this recipe...</td>\n",
       "      <td>[tomato juice, apple cider vinegar, sugar, sal...</td>\n",
       "      <td>8</td>\n",
       "    </tr>\n",
       "  </tbody>\n",
       "</table>\n",
       "</div>"
      ],
      "text/plain": [
       "                                         name      id  minutes  \\\n",
       "0  arriba   baked winter squash mexican style  137739       55   \n",
       "1            a bit different  breakfast pizza   31490       30   \n",
       "2                   all in the kitchen  chili  112140      130   \n",
       "3                          alouette  potatoes   59389       45   \n",
       "4          amish  tomato ketchup  for canning   44061      190   \n",
       "\n",
       "   contributor_id   submitted  \\\n",
       "0           47892  2005-09-16   \n",
       "1           26278  2002-06-17   \n",
       "2          196586  2005-02-25   \n",
       "3           68585  2003-04-14   \n",
       "4           41706  2002-10-25   \n",
       "\n",
       "                                                tags  \\\n",
       "0  ['60-minutes-or-less', 'time-to-make', 'course...   \n",
       "1  ['30-minutes-or-less', 'time-to-make', 'course...   \n",
       "2  ['time-to-make', 'course', 'preparation', 'mai...   \n",
       "3  ['60-minutes-or-less', 'time-to-make', 'course...   \n",
       "4  ['weeknight', 'time-to-make', 'course', 'main-...   \n",
       "\n",
       "                                    nutrition  n_steps  \\\n",
       "0       [51.5, 0.0, 13.0, 0.0, 2.0, 0.0, 4.0]       11   \n",
       "1   [173.4, 18.0, 0.0, 17.0, 22.0, 35.0, 1.0]        9   \n",
       "2  [269.8, 22.0, 32.0, 48.0, 39.0, 27.0, 5.0]        6   \n",
       "3   [368.1, 17.0, 10.0, 2.0, 14.0, 8.0, 20.0]       11   \n",
       "4   [352.9, 1.0, 337.0, 23.0, 3.0, 0.0, 28.0]        5   \n",
       "\n",
       "                                               steps  \\\n",
       "0  ['make a choice and proceed with recipe', 'dep...   \n",
       "1  ['preheat oven to 425 degrees f', 'press dough...   \n",
       "2  ['brown ground beef in large pot', 'add choppe...   \n",
       "3  ['place potatoes in a large pot of lightly sal...   \n",
       "4  ['mix all ingredients& boil for 2 1 / 2 hours ...   \n",
       "\n",
       "                                         description  \\\n",
       "0  autumn is my favorite time of year to cook! th...   \n",
       "1  this recipe calls for the crust to be prebaked...   \n",
       "2  this modified version of 'mom's' chili was a h...   \n",
       "3  this is a super easy, great tasting, make ahea...   \n",
       "4  my dh's amish mother raised him on this recipe...   \n",
       "\n",
       "                                         ingredients  n_ingredients  \n",
       "0  [winter squash, mexican seasoning, mixed spice...              7  \n",
       "1  [prepared pizza crust, sausage patty, eggs, mi...              6  \n",
       "2  [ground beef, yellow onions, diced tomatoes, t...             13  \n",
       "3  [spreadable cheese with garlic and herbs, new ...             11  \n",
       "4  [tomato juice, apple cider vinegar, sugar, sal...              8  "
      ]
     },
     "execution_count": 3,
     "metadata": {},
     "output_type": "execute_result"
    }
   ],
   "source": [
    "raw_recipes = model.load_recipe_data()\n",
    "raw_recipes.head(5)"
   ]
  },
  {
   "cell_type": "markdown",
   "id": "16fd1f54",
   "metadata": {},
   "source": [
    "# Reduce columns of dataframe"
   ]
  },
  {
   "cell_type": "code",
   "execution_count": 4,
   "id": "b7f4839a",
   "metadata": {},
   "outputs": [
    {
     "data": {
      "text/html": [
       "<div>\n",
       "<style scoped>\n",
       "    .dataframe tbody tr th:only-of-type {\n",
       "        vertical-align: middle;\n",
       "    }\n",
       "\n",
       "    .dataframe tbody tr th {\n",
       "        vertical-align: top;\n",
       "    }\n",
       "\n",
       "    .dataframe thead th {\n",
       "        text-align: right;\n",
       "    }\n",
       "</style>\n",
       "<table border=\"1\" class=\"dataframe\">\n",
       "  <thead>\n",
       "    <tr style=\"text-align: right;\">\n",
       "      <th></th>\n",
       "      <th>name</th>\n",
       "      <th>id</th>\n",
       "      <th>minutes</th>\n",
       "      <th>ingredients</th>\n",
       "    </tr>\n",
       "  </thead>\n",
       "  <tbody>\n",
       "    <tr>\n",
       "      <th>0</th>\n",
       "      <td>arriba   baked winter squash mexican style</td>\n",
       "      <td>137739</td>\n",
       "      <td>55</td>\n",
       "      <td>[winter squash, mexican seasoning, mixed spice...</td>\n",
       "    </tr>\n",
       "    <tr>\n",
       "      <th>1</th>\n",
       "      <td>a bit different  breakfast pizza</td>\n",
       "      <td>31490</td>\n",
       "      <td>30</td>\n",
       "      <td>[prepared pizza crust, sausage patty, eggs, mi...</td>\n",
       "    </tr>\n",
       "    <tr>\n",
       "      <th>2</th>\n",
       "      <td>all in the kitchen  chili</td>\n",
       "      <td>112140</td>\n",
       "      <td>130</td>\n",
       "      <td>[ground beef, yellow onions, diced tomatoes, t...</td>\n",
       "    </tr>\n",
       "    <tr>\n",
       "      <th>3</th>\n",
       "      <td>alouette  potatoes</td>\n",
       "      <td>59389</td>\n",
       "      <td>45</td>\n",
       "      <td>[spreadable cheese with garlic and herbs, new ...</td>\n",
       "    </tr>\n",
       "    <tr>\n",
       "      <th>4</th>\n",
       "      <td>amish  tomato ketchup  for canning</td>\n",
       "      <td>44061</td>\n",
       "      <td>190</td>\n",
       "      <td>[tomato juice, apple cider vinegar, sugar, sal...</td>\n",
       "    </tr>\n",
       "  </tbody>\n",
       "</table>\n",
       "</div>"
      ],
      "text/plain": [
       "                                         name      id  minutes  \\\n",
       "0  arriba   baked winter squash mexican style  137739       55   \n",
       "1            a bit different  breakfast pizza   31490       30   \n",
       "2                   all in the kitchen  chili  112140      130   \n",
       "3                          alouette  potatoes   59389       45   \n",
       "4          amish  tomato ketchup  for canning   44061      190   \n",
       "\n",
       "                                         ingredients  \n",
       "0  [winter squash, mexican seasoning, mixed spice...  \n",
       "1  [prepared pizza crust, sausage patty, eggs, mi...  \n",
       "2  [ground beef, yellow onions, diced tomatoes, t...  \n",
       "3  [spreadable cheese with garlic and herbs, new ...  \n",
       "4  [tomato juice, apple cider vinegar, sugar, sal...  "
      ]
     },
     "execution_count": 4,
     "metadata": {},
     "output_type": "execute_result"
    }
   ],
   "source": [
    "selection = [\"name\", \"id\", \"minutes\", \"ingredients\"]\n",
    "df = raw_recipes[selection]\n",
    "df.head(5)"
   ]
  },
  {
   "cell_type": "markdown",
   "id": "560403fa",
   "metadata": {},
   "source": [
    "# Get random subset of data"
   ]
  },
  {
   "cell_type": "code",
   "execution_count": 6,
   "id": "148c400c",
   "metadata": {},
   "outputs": [],
   "source": [
    "if len(df) > 30000:\n",
    "    df = df.sample(30000)"
   ]
  },
  {
   "cell_type": "markdown",
   "id": "ba135bcb",
   "metadata": {},
   "source": [
    "# Add dummy recipe"
   ]
  },
  {
   "cell_type": "code",
   "execution_count": 7,
   "id": "ea5a1a7e",
   "metadata": {},
   "outputs": [
    {
     "data": {
      "text/html": [
       "<div>\n",
       "<style scoped>\n",
       "    .dataframe tbody tr th:only-of-type {\n",
       "        vertical-align: middle;\n",
       "    }\n",
       "\n",
       "    .dataframe tbody tr th {\n",
       "        vertical-align: top;\n",
       "    }\n",
       "\n",
       "    .dataframe thead th {\n",
       "        text-align: right;\n",
       "    }\n",
       "</style>\n",
       "<table border=\"1\" class=\"dataframe\">\n",
       "  <thead>\n",
       "    <tr style=\"text-align: right;\">\n",
       "      <th></th>\n",
       "      <th>name</th>\n",
       "      <th>id</th>\n",
       "      <th>minutes</th>\n",
       "      <th>ingredients</th>\n",
       "    </tr>\n",
       "  </thead>\n",
       "  <tbody>\n",
       "    <tr>\n",
       "      <th>29998</th>\n",
       "      <td>sherri s jalapeno cheese squares</td>\n",
       "      <td>320944</td>\n",
       "      <td>55</td>\n",
       "      <td>jalapenos cheddar cheese eggs</td>\n",
       "    </tr>\n",
       "    <tr>\n",
       "      <th>29999</th>\n",
       "      <td>turkey scaloppine with leeks  currants and mar...</td>\n",
       "      <td>375367</td>\n",
       "      <td>60</td>\n",
       "      <td>leeks low sodium chicken broth sugar bay leaf ...</td>\n",
       "    </tr>\n",
       "    <tr>\n",
       "      <th>30000</th>\n",
       "      <td>dummy</td>\n",
       "      <td>537242</td>\n",
       "      <td>30</td>\n",
       "      <td>Tomato Onion Garlic</td>\n",
       "    </tr>\n",
       "  </tbody>\n",
       "</table>\n",
       "</div>"
      ],
      "text/plain": [
       "                                                    name      id  minutes  \\\n",
       "29998                   sherri s jalapeno cheese squares  320944       55   \n",
       "29999  turkey scaloppine with leeks  currants and mar...  375367       60   \n",
       "30000                                              dummy  537242       30   \n",
       "\n",
       "                                             ingredients  \n",
       "29998                      jalapenos cheddar cheese eggs  \n",
       "29999  leeks low sodium chicken broth sugar bay leaf ...  \n",
       "30000                                Tomato Onion Garlic  "
      ]
     },
     "execution_count": 7,
     "metadata": {},
     "output_type": "execute_result"
    }
   ],
   "source": [
    "my_ingredients = ['Tomato', 'Onion', 'Garlic']\n",
    "# add dummy recipe built from input ingredients list to dataframe\n",
    "df, idx_dummy = model.add_dummy_recipe(df=df, ingredients=my_ingredients)\n",
    "df.tail(3)"
   ]
  },
  {
   "cell_type": "code",
   "execution_count": 8,
   "id": "2c71c8a7",
   "metadata": {},
   "outputs": [
    {
     "data": {
      "text/plain": [
       "30001"
      ]
     },
     "execution_count": 8,
     "metadata": {},
     "output_type": "execute_result"
    }
   ],
   "source": [
    "len(df)"
   ]
  },
  {
   "cell_type": "markdown",
   "id": "e00afbbe",
   "metadata": {},
   "source": [
    "# Calculate similarities"
   ]
  },
  {
   "cell_type": "code",
   "execution_count": 9,
   "id": "df702870",
   "metadata": {},
   "outputs": [],
   "source": [
    "count_vec = CountVectorizer()\n",
    "matrix = count_vec.fit_transform(df['ingredients'])"
   ]
  },
  {
   "cell_type": "code",
   "execution_count": 10,
   "id": "521a57b4",
   "metadata": {},
   "outputs": [
    {
     "data": {
      "text/plain": [
       "(30001, 2798)"
      ]
     },
     "execution_count": 10,
     "metadata": {},
     "output_type": "execute_result"
    }
   ],
   "source": [
    "matrix.shape"
   ]
  },
  {
   "cell_type": "code",
   "execution_count": 11,
   "id": "2abd50a6",
   "metadata": {},
   "outputs": [],
   "source": [
    "# Compute the cosine similarity matrix\n",
    "cosine_sim = linear_kernel(matrix, matrix)"
   ]
  },
  {
   "cell_type": "code",
   "execution_count": 12,
   "id": "02a4b6b5",
   "metadata": {},
   "outputs": [],
   "source": [
    "# get reverse mapping of indices\n",
    "indices = pd.Series(df.index, index=df['ingredients']).drop_duplicates()"
   ]
  },
  {
   "cell_type": "code",
   "execution_count": 13,
   "id": "aea39b50",
   "metadata": {},
   "outputs": [],
   "source": [
    "# get pairwise similarity scores and sort recipes based on them\n",
    "sim_scores = list(enumerate(cosine_sim[idx_dummy]))\n",
    "sim_scores = sorted(sim_scores, key=lambda x: x[1], reverse=True)"
   ]
  },
  {
   "cell_type": "code",
   "execution_count": 14,
   "id": "1aad10a2",
   "metadata": {},
   "outputs": [
    {
     "data": {
      "text/plain": [
       "[(20882, 6.0),\n",
       " (23175, 6.0),\n",
       " (659, 5.0),\n",
       " (2007, 5.0),\n",
       " (2120, 5.0),\n",
       " (3195, 5.0),\n",
       " (5104, 5.0),\n",
       " (5199, 5.0),\n",
       " (8746, 5.0),\n",
       " (9035, 5.0)]"
      ]
     },
     "execution_count": 14,
     "metadata": {},
     "output_type": "execute_result"
    }
   ],
   "source": [
    "# select top 10 recommendations \n",
    "sim_scores = sim_scores[1:11] # first one is dummy recipe itself\n",
    "sim_scores"
   ]
  },
  {
   "cell_type": "code",
   "execution_count": 15,
   "id": "7cf132c7",
   "metadata": {},
   "outputs": [
    {
     "data": {
      "text/plain": [
       "[20882, 23175, 659, 2007, 2120, 3195, 5104, 5199, 8746, 9035]"
      ]
     },
     "execution_count": 15,
     "metadata": {},
     "output_type": "execute_result"
    }
   ],
   "source": [
    "# get the recipe indices\n",
    "recipe_indices = [i[0] for i in sim_scores]\n",
    "recipe_indices"
   ]
  },
  {
   "cell_type": "code",
   "execution_count": 16,
   "id": "5dd23346",
   "metadata": {},
   "outputs": [
    {
     "data": {
      "text/html": [
       "<div>\n",
       "<style scoped>\n",
       "    .dataframe tbody tr th:only-of-type {\n",
       "        vertical-align: middle;\n",
       "    }\n",
       "\n",
       "    .dataframe tbody tr th {\n",
       "        vertical-align: top;\n",
       "    }\n",
       "\n",
       "    .dataframe thead th {\n",
       "        text-align: right;\n",
       "    }\n",
       "</style>\n",
       "<table border=\"1\" class=\"dataframe\">\n",
       "  <thead>\n",
       "    <tr style=\"text-align: right;\">\n",
       "      <th></th>\n",
       "      <th>name</th>\n",
       "      <th>id</th>\n",
       "      <th>minutes</th>\n",
       "      <th>ingredients</th>\n",
       "    </tr>\n",
       "  </thead>\n",
       "  <tbody>\n",
       "    <tr>\n",
       "      <th>20882</th>\n",
       "      <td>nikki s spaghetti sauce</td>\n",
       "      <td>371582</td>\n",
       "      <td>55</td>\n",
       "      <td>ground beef onion salt and pepper tomato sauce...</td>\n",
       "    </tr>\n",
       "    <tr>\n",
       "      <th>23175</th>\n",
       "      <td>mihc s black bean enchilada bake</td>\n",
       "      <td>363590</td>\n",
       "      <td>30</td>\n",
       "      <td>tomato sauce tomato juice water ground cumin s...</td>\n",
       "    </tr>\n",
       "    <tr>\n",
       "      <th>659</th>\n",
       "      <td>turkey meatball pasta bake</td>\n",
       "      <td>325393</td>\n",
       "      <td>120</td>\n",
       "      <td>vegetable oil onion garlic cloves crushed toma...</td>\n",
       "    </tr>\n",
       "    <tr>\n",
       "      <th>2007</th>\n",
       "      <td>roasted vegetable lasagna   vegetarian</td>\n",
       "      <td>244233</td>\n",
       "      <td>240</td>\n",
       "      <td>olive oil onion minced garlic cloves green pep...</td>\n",
       "    </tr>\n",
       "    <tr>\n",
       "      <th>2120</th>\n",
       "      <td>sunken meat burrito</td>\n",
       "      <td>16238</td>\n",
       "      <td>180</td>\n",
       "      <td>flour tortillas dried onion flakes colby chees...</td>\n",
       "    </tr>\n",
       "    <tr>\n",
       "      <th>3195</th>\n",
       "      <td>real fajitas  a dissertation on fajitas</td>\n",
       "      <td>222092</td>\n",
       "      <td>1500</td>\n",
       "      <td>skirt steaks flour tortillas onions bell peppe...</td>\n",
       "    </tr>\n",
       "    <tr>\n",
       "      <th>5104</th>\n",
       "      <td>thanksgiving leftovers turkey shepherd s pie</td>\n",
       "      <td>146119</td>\n",
       "      <td>60</td>\n",
       "      <td>unsalted butter olive oil yellow onion carrots...</td>\n",
       "    </tr>\n",
       "    <tr>\n",
       "      <th>5199</th>\n",
       "      <td>easy spaghetti meat sauce</td>\n",
       "      <td>491594</td>\n",
       "      <td>75</td>\n",
       "      <td>lean ground beef onion garlic cloves sliced mu...</td>\n",
       "    </tr>\n",
       "    <tr>\n",
       "      <th>8746</th>\n",
       "      <td>simple and easy hot dog sauce</td>\n",
       "      <td>380048</td>\n",
       "      <td>40</td>\n",
       "      <td>tomato sauce tomato paste water garlic powder ...</td>\n",
       "    </tr>\n",
       "    <tr>\n",
       "      <th>9035</th>\n",
       "      <td>great low cal low fat chili</td>\n",
       "      <td>111513</td>\n",
       "      <td>75</td>\n",
       "      <td>ground chicken purple onion celery &amp; leaves fr...</td>\n",
       "    </tr>\n",
       "  </tbody>\n",
       "</table>\n",
       "</div>"
      ],
      "text/plain": [
       "                                               name      id  minutes  \\\n",
       "20882                       nikki s spaghetti sauce  371582       55   \n",
       "23175              mihc s black bean enchilada bake  363590       30   \n",
       "659                      turkey meatball pasta bake  325393      120   \n",
       "2007         roasted vegetable lasagna   vegetarian  244233      240   \n",
       "2120                            sunken meat burrito   16238      180   \n",
       "3195        real fajitas  a dissertation on fajitas  222092     1500   \n",
       "5104   thanksgiving leftovers turkey shepherd s pie  146119       60   \n",
       "5199                      easy spaghetti meat sauce  491594       75   \n",
       "8746                  simple and easy hot dog sauce  380048       40   \n",
       "9035                    great low cal low fat chili  111513       75   \n",
       "\n",
       "                                             ingredients  \n",
       "20882  ground beef onion salt and pepper tomato sauce...  \n",
       "23175  tomato sauce tomato juice water ground cumin s...  \n",
       "659    vegetable oil onion garlic cloves crushed toma...  \n",
       "2007   olive oil onion minced garlic cloves green pep...  \n",
       "2120   flour tortillas dried onion flakes colby chees...  \n",
       "3195   skirt steaks flour tortillas onions bell peppe...  \n",
       "5104   unsalted butter olive oil yellow onion carrots...  \n",
       "5199   lean ground beef onion garlic cloves sliced mu...  \n",
       "8746   tomato sauce tomato paste water garlic powder ...  \n",
       "9035   ground chicken purple onion celery & leaves fr...  "
      ]
     },
     "execution_count": 16,
     "metadata": {},
     "output_type": "execute_result"
    }
   ],
   "source": [
    "recommendations_df = df.loc[recipe_indices]\n",
    "recommendations_df"
   ]
  },
  {
   "cell_type": "code",
   "execution_count": 21,
   "id": "887ca82c",
   "metadata": {},
   "outputs": [
    {
     "data": {
      "text/plain": [
       "True"
      ]
     },
     "execution_count": 21,
     "metadata": {},
     "output_type": "execute_result"
    }
   ],
   "source": [
    "'nikki s spaghetti sauce' in recommendations_df['name'].values"
   ]
  },
  {
   "cell_type": "code",
   "execution_count": 26,
   "id": "5d8ea346",
   "metadata": {},
   "outputs": [
    {
     "data": {
      "text/html": [
       "<div>\n",
       "<style scoped>\n",
       "    .dataframe tbody tr th:only-of-type {\n",
       "        vertical-align: middle;\n",
       "    }\n",
       "\n",
       "    .dataframe tbody tr th {\n",
       "        vertical-align: top;\n",
       "    }\n",
       "\n",
       "    .dataframe thead th {\n",
       "        text-align: right;\n",
       "    }\n",
       "</style>\n",
       "<table border=\"1\" class=\"dataframe\">\n",
       "  <thead>\n",
       "    <tr style=\"text-align: right;\">\n",
       "      <th></th>\n",
       "      <th>name</th>\n",
       "      <th>id</th>\n",
       "      <th>minutes</th>\n",
       "      <th>ingredients</th>\n",
       "    </tr>\n",
       "  </thead>\n",
       "  <tbody>\n",
       "    <tr>\n",
       "      <th>23175</th>\n",
       "      <td>mihc s black bean enchilada bake</td>\n",
       "      <td>363590</td>\n",
       "      <td>30</td>\n",
       "      <td>tomato sauce tomato juice water ground cumin s...</td>\n",
       "    </tr>\n",
       "    <tr>\n",
       "      <th>659</th>\n",
       "      <td>turkey meatball pasta bake</td>\n",
       "      <td>325393</td>\n",
       "      <td>120</td>\n",
       "      <td>vegetable oil onion garlic cloves crushed toma...</td>\n",
       "    </tr>\n",
       "    <tr>\n",
       "      <th>2007</th>\n",
       "      <td>roasted vegetable lasagna   vegetarian</td>\n",
       "      <td>244233</td>\n",
       "      <td>240</td>\n",
       "      <td>olive oil onion minced garlic cloves green pep...</td>\n",
       "    </tr>\n",
       "    <tr>\n",
       "      <th>2120</th>\n",
       "      <td>sunken meat burrito</td>\n",
       "      <td>16238</td>\n",
       "      <td>180</td>\n",
       "      <td>flour tortillas dried onion flakes colby chees...</td>\n",
       "    </tr>\n",
       "    <tr>\n",
       "      <th>3195</th>\n",
       "      <td>real fajitas  a dissertation on fajitas</td>\n",
       "      <td>222092</td>\n",
       "      <td>1500</td>\n",
       "      <td>skirt steaks flour tortillas onions bell peppe...</td>\n",
       "    </tr>\n",
       "    <tr>\n",
       "      <th>5104</th>\n",
       "      <td>thanksgiving leftovers turkey shepherd s pie</td>\n",
       "      <td>146119</td>\n",
       "      <td>60</td>\n",
       "      <td>unsalted butter olive oil yellow onion carrots...</td>\n",
       "    </tr>\n",
       "    <tr>\n",
       "      <th>5199</th>\n",
       "      <td>easy spaghetti meat sauce</td>\n",
       "      <td>491594</td>\n",
       "      <td>75</td>\n",
       "      <td>lean ground beef onion garlic cloves sliced mu...</td>\n",
       "    </tr>\n",
       "    <tr>\n",
       "      <th>8746</th>\n",
       "      <td>simple and easy hot dog sauce</td>\n",
       "      <td>380048</td>\n",
       "      <td>40</td>\n",
       "      <td>tomato sauce tomato paste water garlic powder ...</td>\n",
       "    </tr>\n",
       "    <tr>\n",
       "      <th>9035</th>\n",
       "      <td>great low cal low fat chili</td>\n",
       "      <td>111513</td>\n",
       "      <td>75</td>\n",
       "      <td>ground chicken purple onion celery &amp; leaves fr...</td>\n",
       "    </tr>\n",
       "  </tbody>\n",
       "</table>\n",
       "</div>"
      ],
      "text/plain": [
       "                                               name      id  minutes  \\\n",
       "23175              mihc s black bean enchilada bake  363590       30   \n",
       "659                      turkey meatball pasta bake  325393      120   \n",
       "2007         roasted vegetable lasagna   vegetarian  244233      240   \n",
       "2120                            sunken meat burrito   16238      180   \n",
       "3195        real fajitas  a dissertation on fajitas  222092     1500   \n",
       "5104   thanksgiving leftovers turkey shepherd s pie  146119       60   \n",
       "5199                      easy spaghetti meat sauce  491594       75   \n",
       "8746                  simple and easy hot dog sauce  380048       40   \n",
       "9035                    great low cal low fat chili  111513       75   \n",
       "\n",
       "                                             ingredients  \n",
       "23175  tomato sauce tomato juice water ground cumin s...  \n",
       "659    vegetable oil onion garlic cloves crushed toma...  \n",
       "2007   olive oil onion minced garlic cloves green pep...  \n",
       "2120   flour tortillas dried onion flakes colby chees...  \n",
       "3195   skirt steaks flour tortillas onions bell peppe...  \n",
       "5104   unsalted butter olive oil yellow onion carrots...  \n",
       "5199   lean ground beef onion garlic cloves sliced mu...  \n",
       "8746   tomato sauce tomato paste water garlic powder ...  \n",
       "9035   ground chicken purple onion celery & leaves fr...  "
      ]
     },
     "execution_count": 26,
     "metadata": {},
     "output_type": "execute_result"
    }
   ],
   "source": [
    "newdf = recommendations_df.drop(recommendations_df[recommendations_df['name']=='nikki s spaghetti sauce'].index)\n",
    "newdf"
   ]
  },
  {
   "cell_type": "code",
   "execution_count": null,
   "id": "8ebd09e4",
   "metadata": {},
   "outputs": [],
   "source": [
    "recommendations_df.drop()"
   ]
  },
  {
   "cell_type": "code",
   "execution_count": null,
   "id": "43ce1368",
   "metadata": {},
   "outputs": [],
   "source": []
  },
  {
   "cell_type": "code",
   "execution_count": null,
   "id": "9ce5e7c3",
   "metadata": {},
   "outputs": [],
   "source": []
  },
  {
   "cell_type": "code",
   "execution_count": null,
   "id": "2b5cafea",
   "metadata": {},
   "outputs": [],
   "source": []
  }
 ],
 "metadata": {
  "kernelspec": {
   "display_name": "Python [conda env:RecRecipe] *",
   "language": "python",
   "name": "conda-env-RecRecipe-py"
  },
  "language_info": {
   "codemirror_mode": {
    "name": "ipython",
    "version": 3
   },
   "file_extension": ".py",
   "mimetype": "text/x-python",
   "name": "python",
   "nbconvert_exporter": "python",
   "pygments_lexer": "ipython3",
   "version": "3.9.7"
  },
  "toc": {
   "base_numbering": 1,
   "nav_menu": {},
   "number_sections": true,
   "sideBar": true,
   "skip_h1_title": false,
   "title_cell": "Table of Contents",
   "title_sidebar": "Contents",
   "toc_cell": false,
   "toc_position": {
    "height": "calc(100% - 180px)",
    "left": "10px",
    "top": "150px",
    "width": "512px"
   },
   "toc_section_display": true,
   "toc_window_display": true
  }
 },
 "nbformat": 4,
 "nbformat_minor": 5
}
