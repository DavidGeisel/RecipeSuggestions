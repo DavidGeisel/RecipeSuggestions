{
 "cells": [
  {
   "cell_type": "code",
   "execution_count": 44,
   "id": "8c96d84f",
   "metadata": {},
   "outputs": [],
   "source": [
    "import numpy as np\n",
    "import pandas as pd\n",
    "import ast\n",
    "# Import linear_kernel\n",
    "from sklearn.metrics.pairwise import linear_kernel\n",
    "#Import TfIdfVectorizer (scikit-learn)\n",
    "from sklearn.feature_extraction.text import TfidfVectorizer\n",
    "import nltk\n",
    "from nltk.stem import WordNetLemmatizer\n",
    "from nltk.corpus import wordnet\n",
    "from collections import Counter\n",
    "import string\n",
    "import re\n",
    "import unidecode"
   ]
  },
  {
   "cell_type": "code",
   "execution_count": 47,
   "id": "1fd597a3",
   "metadata": {},
   "outputs": [
    {
     "name": "stderr",
     "output_type": "stream",
     "text": [
      "[nltk_data] Downloading package wordnet to /home/david/nltk_data...\n",
      "[nltk_data]   Unzipping corpora/wordnet.zip.\n"
     ]
    },
    {
     "data": {
      "text/plain": [
       "True"
      ]
     },
     "execution_count": 47,
     "metadata": {},
     "output_type": "execute_result"
    }
   ],
   "source": [
    "nltk.download('wordnet')"
   ]
  },
  {
   "cell_type": "markdown",
   "id": "90e566f8",
   "metadata": {},
   "source": [
    "# Food-com"
   ]
  },
  {
   "cell_type": "markdown",
   "id": "3347f619",
   "metadata": {},
   "source": [
    "## Data-Source\n",
    "- the data was downloaded from:\n",
    "\n",
    "https://www.kaggle.com/shuyangli94/food-com-recipes-and-user-interactions\n",
    "\n",
    "**Data description:**\n",
    "This dataset consists of 180K+ recipes and 700K+ recipe reviews covering 18 years of user interactions and uploads on Food.com (formerly GeniusKitchen). used in the following paper:\n",
    "\n",
    "Generating Personalized Recipes from Historical User Preferences\n",
    "Bodhisattwa Prasad Majumder*, Shuyang Li*, Jianmo Ni, Julian McAuley\n",
    "EMNLP, 2019\n",
    "https://www.aclweb.org/anthology/D19-1613/\n",
    "\n",
    "\n",
    "**License:**\n",
    "\n",
    "Kaggle: Data files © Original Authors\n",
    "\n",
    "Paper: \n",
    "ACL materials are Copyright © 1963–2022 ACL; other materials are copyrighted by their respective copyright holders. Materials prior to 2016 here are licensed under the Creative Commons Attribution-NonCommercial-ShareAlike 3.0 International License. Permission is granted to make copies for the purposes of teaching and research. Materials published in or after 2016 are licensed on a Creative Commons Attribution 4.0 International License.\n",
    "\n",
    "The ACL Anthology is managed and built by the ACL Anthology team of volunteers.\n",
    "\n",
    "Site last built on 20 January 2022 at 01:07 UTC with commit 7c68786d."
   ]
  },
  {
   "cell_type": "markdown",
   "id": "1537c70a",
   "metadata": {},
   "source": [
    "## Data exploration"
   ]
  },
  {
   "cell_type": "code",
   "execution_count": 2,
   "id": "0cf69b52",
   "metadata": {},
   "outputs": [],
   "source": [
    "data_path = \"/home/david/Projects/Hackathons/DeveloperWeek2022/RecipeSuggestions/data/\""
   ]
  },
  {
   "cell_type": "code",
   "execution_count": 3,
   "id": "17fe27d7",
   "metadata": {},
   "outputs": [
    {
     "data": {
      "text/html": [
       "<div>\n",
       "<style scoped>\n",
       "    .dataframe tbody tr th:only-of-type {\n",
       "        vertical-align: middle;\n",
       "    }\n",
       "\n",
       "    .dataframe tbody tr th {\n",
       "        vertical-align: top;\n",
       "    }\n",
       "\n",
       "    .dataframe thead th {\n",
       "        text-align: right;\n",
       "    }\n",
       "</style>\n",
       "<table border=\"1\" class=\"dataframe\">\n",
       "  <thead>\n",
       "    <tr style=\"text-align: right;\">\n",
       "      <th></th>\n",
       "      <th>name</th>\n",
       "      <th>id</th>\n",
       "      <th>minutes</th>\n",
       "      <th>contributor_id</th>\n",
       "      <th>submitted</th>\n",
       "      <th>tags</th>\n",
       "      <th>nutrition</th>\n",
       "      <th>n_steps</th>\n",
       "      <th>steps</th>\n",
       "      <th>description</th>\n",
       "      <th>ingredients</th>\n",
       "      <th>n_ingredients</th>\n",
       "    </tr>\n",
       "  </thead>\n",
       "  <tbody>\n",
       "    <tr>\n",
       "      <th>0</th>\n",
       "      <td>arriba   baked winter squash mexican style</td>\n",
       "      <td>137739</td>\n",
       "      <td>55</td>\n",
       "      <td>47892</td>\n",
       "      <td>2005-09-16</td>\n",
       "      <td>['60-minutes-or-less', 'time-to-make', 'course...</td>\n",
       "      <td>[51.5, 0.0, 13.0, 0.0, 2.0, 0.0, 4.0]</td>\n",
       "      <td>11</td>\n",
       "      <td>['make a choice and proceed with recipe', 'dep...</td>\n",
       "      <td>autumn is my favorite time of year to cook! th...</td>\n",
       "      <td>[winter squash, mexican seasoning, mixed spice...</td>\n",
       "      <td>7</td>\n",
       "    </tr>\n",
       "    <tr>\n",
       "      <th>1</th>\n",
       "      <td>a bit different  breakfast pizza</td>\n",
       "      <td>31490</td>\n",
       "      <td>30</td>\n",
       "      <td>26278</td>\n",
       "      <td>2002-06-17</td>\n",
       "      <td>['30-minutes-or-less', 'time-to-make', 'course...</td>\n",
       "      <td>[173.4, 18.0, 0.0, 17.0, 22.0, 35.0, 1.0]</td>\n",
       "      <td>9</td>\n",
       "      <td>['preheat oven to 425 degrees f', 'press dough...</td>\n",
       "      <td>this recipe calls for the crust to be prebaked...</td>\n",
       "      <td>[prepared pizza crust, sausage patty, eggs, mi...</td>\n",
       "      <td>6</td>\n",
       "    </tr>\n",
       "    <tr>\n",
       "      <th>2</th>\n",
       "      <td>all in the kitchen  chili</td>\n",
       "      <td>112140</td>\n",
       "      <td>130</td>\n",
       "      <td>196586</td>\n",
       "      <td>2005-02-25</td>\n",
       "      <td>['time-to-make', 'course', 'preparation', 'mai...</td>\n",
       "      <td>[269.8, 22.0, 32.0, 48.0, 39.0, 27.0, 5.0]</td>\n",
       "      <td>6</td>\n",
       "      <td>['brown ground beef in large pot', 'add choppe...</td>\n",
       "      <td>this modified version of 'mom's' chili was a h...</td>\n",
       "      <td>[ground beef, yellow onions, diced tomatoes, t...</td>\n",
       "      <td>13</td>\n",
       "    </tr>\n",
       "    <tr>\n",
       "      <th>3</th>\n",
       "      <td>alouette  potatoes</td>\n",
       "      <td>59389</td>\n",
       "      <td>45</td>\n",
       "      <td>68585</td>\n",
       "      <td>2003-04-14</td>\n",
       "      <td>['60-minutes-or-less', 'time-to-make', 'course...</td>\n",
       "      <td>[368.1, 17.0, 10.0, 2.0, 14.0, 8.0, 20.0]</td>\n",
       "      <td>11</td>\n",
       "      <td>['place potatoes in a large pot of lightly sal...</td>\n",
       "      <td>this is a super easy, great tasting, make ahea...</td>\n",
       "      <td>[spreadable cheese with garlic and herbs, new ...</td>\n",
       "      <td>11</td>\n",
       "    </tr>\n",
       "    <tr>\n",
       "      <th>4</th>\n",
       "      <td>amish  tomato ketchup  for canning</td>\n",
       "      <td>44061</td>\n",
       "      <td>190</td>\n",
       "      <td>41706</td>\n",
       "      <td>2002-10-25</td>\n",
       "      <td>['weeknight', 'time-to-make', 'course', 'main-...</td>\n",
       "      <td>[352.9, 1.0, 337.0, 23.0, 3.0, 0.0, 28.0]</td>\n",
       "      <td>5</td>\n",
       "      <td>['mix all ingredients&amp; boil for 2 1 / 2 hours ...</td>\n",
       "      <td>my dh's amish mother raised him on this recipe...</td>\n",
       "      <td>[tomato juice, apple cider vinegar, sugar, sal...</td>\n",
       "      <td>8</td>\n",
       "    </tr>\n",
       "  </tbody>\n",
       "</table>\n",
       "</div>"
      ],
      "text/plain": [
       "                                         name      id  minutes  \\\n",
       "0  arriba   baked winter squash mexican style  137739       55   \n",
       "1            a bit different  breakfast pizza   31490       30   \n",
       "2                   all in the kitchen  chili  112140      130   \n",
       "3                          alouette  potatoes   59389       45   \n",
       "4          amish  tomato ketchup  for canning   44061      190   \n",
       "\n",
       "   contributor_id   submitted  \\\n",
       "0           47892  2005-09-16   \n",
       "1           26278  2002-06-17   \n",
       "2          196586  2005-02-25   \n",
       "3           68585  2003-04-14   \n",
       "4           41706  2002-10-25   \n",
       "\n",
       "                                                tags  \\\n",
       "0  ['60-minutes-or-less', 'time-to-make', 'course...   \n",
       "1  ['30-minutes-or-less', 'time-to-make', 'course...   \n",
       "2  ['time-to-make', 'course', 'preparation', 'mai...   \n",
       "3  ['60-minutes-or-less', 'time-to-make', 'course...   \n",
       "4  ['weeknight', 'time-to-make', 'course', 'main-...   \n",
       "\n",
       "                                    nutrition  n_steps  \\\n",
       "0       [51.5, 0.0, 13.0, 0.0, 2.0, 0.0, 4.0]       11   \n",
       "1   [173.4, 18.0, 0.0, 17.0, 22.0, 35.0, 1.0]        9   \n",
       "2  [269.8, 22.0, 32.0, 48.0, 39.0, 27.0, 5.0]        6   \n",
       "3   [368.1, 17.0, 10.0, 2.0, 14.0, 8.0, 20.0]       11   \n",
       "4   [352.9, 1.0, 337.0, 23.0, 3.0, 0.0, 28.0]        5   \n",
       "\n",
       "                                               steps  \\\n",
       "0  ['make a choice and proceed with recipe', 'dep...   \n",
       "1  ['preheat oven to 425 degrees f', 'press dough...   \n",
       "2  ['brown ground beef in large pot', 'add choppe...   \n",
       "3  ['place potatoes in a large pot of lightly sal...   \n",
       "4  ['mix all ingredients& boil for 2 1 / 2 hours ...   \n",
       "\n",
       "                                         description  \\\n",
       "0  autumn is my favorite time of year to cook! th...   \n",
       "1  this recipe calls for the crust to be prebaked...   \n",
       "2  this modified version of 'mom's' chili was a h...   \n",
       "3  this is a super easy, great tasting, make ahea...   \n",
       "4  my dh's amish mother raised him on this recipe...   \n",
       "\n",
       "                                         ingredients  n_ingredients  \n",
       "0  [winter squash, mexican seasoning, mixed spice...              7  \n",
       "1  [prepared pizza crust, sausage patty, eggs, mi...              6  \n",
       "2  [ground beef, yellow onions, diced tomatoes, t...             13  \n",
       "3  [spreadable cheese with garlic and herbs, new ...             11  \n",
       "4  [tomato juice, apple cider vinegar, sugar, sal...              8  "
      ]
     },
     "execution_count": 3,
     "metadata": {},
     "output_type": "execute_result"
    }
   ],
   "source": [
    "# need to convert string representation of ingredients list to list using ast\n",
    "raw_recipes = pd.read_csv(data_path + \"RAW_recipes.csv\", converters={'ingredients': ast.literal_eval})\n",
    "raw_recipes.head(5)"
   ]
  },
  {
   "cell_type": "code",
   "execution_count": 8,
   "id": "b596ad2f",
   "metadata": {},
   "outputs": [],
   "source": [
    "#raw_recipes.iloc[4]['ingredients']"
   ]
  },
  {
   "cell_type": "code",
   "execution_count": 4,
   "id": "d1725bf3",
   "metadata": {},
   "outputs": [
    {
     "data": {
      "text/html": [
       "<div>\n",
       "<style scoped>\n",
       "    .dataframe tbody tr th:only-of-type {\n",
       "        vertical-align: middle;\n",
       "    }\n",
       "\n",
       "    .dataframe tbody tr th {\n",
       "        vertical-align: top;\n",
       "    }\n",
       "\n",
       "    .dataframe thead th {\n",
       "        text-align: right;\n",
       "    }\n",
       "</style>\n",
       "<table border=\"1\" class=\"dataframe\">\n",
       "  <thead>\n",
       "    <tr style=\"text-align: right;\">\n",
       "      <th></th>\n",
       "      <th>user_id</th>\n",
       "      <th>recipe_id</th>\n",
       "      <th>date</th>\n",
       "      <th>rating</th>\n",
       "      <th>review</th>\n",
       "    </tr>\n",
       "  </thead>\n",
       "  <tbody>\n",
       "    <tr>\n",
       "      <th>0</th>\n",
       "      <td>38094</td>\n",
       "      <td>40893</td>\n",
       "      <td>2003-02-17</td>\n",
       "      <td>4</td>\n",
       "      <td>Great with a salad. Cooked on top of stove for...</td>\n",
       "    </tr>\n",
       "    <tr>\n",
       "      <th>1</th>\n",
       "      <td>1293707</td>\n",
       "      <td>40893</td>\n",
       "      <td>2011-12-21</td>\n",
       "      <td>5</td>\n",
       "      <td>So simple, so delicious! Great for chilly fall...</td>\n",
       "    </tr>\n",
       "    <tr>\n",
       "      <th>2</th>\n",
       "      <td>8937</td>\n",
       "      <td>44394</td>\n",
       "      <td>2002-12-01</td>\n",
       "      <td>4</td>\n",
       "      <td>This worked very well and is EASY.  I used not...</td>\n",
       "    </tr>\n",
       "    <tr>\n",
       "      <th>3</th>\n",
       "      <td>126440</td>\n",
       "      <td>85009</td>\n",
       "      <td>2010-02-27</td>\n",
       "      <td>5</td>\n",
       "      <td>I made the Mexican topping and took it to bunk...</td>\n",
       "    </tr>\n",
       "    <tr>\n",
       "      <th>4</th>\n",
       "      <td>57222</td>\n",
       "      <td>85009</td>\n",
       "      <td>2011-10-01</td>\n",
       "      <td>5</td>\n",
       "      <td>Made the cheddar bacon topping, adding a sprin...</td>\n",
       "    </tr>\n",
       "  </tbody>\n",
       "</table>\n",
       "</div>"
      ],
      "text/plain": [
       "   user_id  recipe_id        date  rating  \\\n",
       "0    38094      40893  2003-02-17       4   \n",
       "1  1293707      40893  2011-12-21       5   \n",
       "2     8937      44394  2002-12-01       4   \n",
       "3   126440      85009  2010-02-27       5   \n",
       "4    57222      85009  2011-10-01       5   \n",
       "\n",
       "                                              review  \n",
       "0  Great with a salad. Cooked on top of stove for...  \n",
       "1  So simple, so delicious! Great for chilly fall...  \n",
       "2  This worked very well and is EASY.  I used not...  \n",
       "3  I made the Mexican topping and took it to bunk...  \n",
       "4  Made the cheddar bacon topping, adding a sprin...  "
      ]
     },
     "execution_count": 4,
     "metadata": {},
     "output_type": "execute_result"
    }
   ],
   "source": [
    "raw_interactions = pd.read_csv(data_path + \"RAW_interactions.csv\")\n",
    "raw_interactions.head(5)"
   ]
  },
  {
   "cell_type": "markdown",
   "id": "b928c209",
   "metadata": {},
   "source": [
    "### Number of recipes"
   ]
  },
  {
   "cell_type": "code",
   "execution_count": null,
   "id": "b187b2cd",
   "metadata": {},
   "outputs": [],
   "source": [
    "nr_recipes = len(raw_recipes)\n",
    "print(\"There are \", nr_recipes, \" in the database.\")"
   ]
  },
  {
   "cell_type": "markdown",
   "id": "b95a7dcb",
   "metadata": {},
   "source": [
    "### Distribution of number of ingredients"
   ]
  },
  {
   "cell_type": "code",
   "execution_count": null,
   "id": "0653ba2b",
   "metadata": {},
   "outputs": [],
   "source": [
    "raw_recipes.hist(column=\"n_ingredients\")"
   ]
  },
  {
   "cell_type": "code",
   "execution_count": null,
   "id": "bf6bae4f",
   "metadata": {},
   "outputs": [],
   "source": [
    "print(\"The average number of ingredients for a recipe is \", raw_recipes[\"n_ingredients\"].mean())"
   ]
  },
  {
   "cell_type": "markdown",
   "id": "5eb993b3",
   "metadata": {},
   "source": [
    "### Time of preparation for recipies"
   ]
  },
  {
   "cell_type": "code",
   "execution_count": null,
   "id": "93e9bb7e",
   "metadata": {},
   "outputs": [],
   "source": [
    "raw_recipes.hist(column=\"minutes\")"
   ]
  },
  {
   "cell_type": "code",
   "execution_count": null,
   "id": "af428d25",
   "metadata": {},
   "outputs": [],
   "source": [
    "print(\"The average time for preparation of a recipe is \", raw_recipes[\"minutes\"].mean())"
   ]
  },
  {
   "cell_type": "code",
   "execution_count": null,
   "id": "7ff50a3e",
   "metadata": {},
   "outputs": [],
   "source": [
    "raw_recipes[\"minutes\"].max()"
   ]
  },
  {
   "cell_type": "code",
   "execution_count": null,
   "id": "f191f6a5",
   "metadata": {},
   "outputs": [],
   "source": [
    "raw_recipes[\"minutes\"].min()"
   ]
  },
  {
   "cell_type": "code",
   "execution_count": null,
   "id": "28a320d2",
   "metadata": {},
   "outputs": [],
   "source": [
    "raw_recipes[\"minutes\"].median()"
   ]
  },
  {
   "cell_type": "markdown",
   "id": "5124353b",
   "metadata": {},
   "source": [
    "# Salad-recipes"
   ]
  },
  {
   "cell_type": "markdown",
   "id": "27c5219a",
   "metadata": {},
   "source": [
    "## Data source\n",
    "\n",
    "https://www.kaggle.com/snehallokesh31096/recipe\n",
    "\n"
   ]
  },
  {
   "cell_type": "markdown",
   "id": "3e5d6c40",
   "metadata": {},
   "source": [
    "## Data exploration"
   ]
  },
  {
   "cell_type": "code",
   "execution_count": 6,
   "id": "556eac25",
   "metadata": {},
   "outputs": [
    {
     "data": {
      "text/html": [
       "<div>\n",
       "<style scoped>\n",
       "    .dataframe tbody tr th:only-of-type {\n",
       "        vertical-align: middle;\n",
       "    }\n",
       "\n",
       "    .dataframe tbody tr th {\n",
       "        vertical-align: top;\n",
       "    }\n",
       "\n",
       "    .dataframe thead th {\n",
       "        text-align: right;\n",
       "    }\n",
       "</style>\n",
       "<table border=\"1\" class=\"dataframe\">\n",
       "  <thead>\n",
       "    <tr style=\"text-align: right;\">\n",
       "      <th></th>\n",
       "      <th>category</th>\n",
       "      <th>cooking_method</th>\n",
       "      <th>cuisine</th>\n",
       "      <th>image</th>\n",
       "      <th>ingredients</th>\n",
       "      <th>prep_time</th>\n",
       "      <th>recipe_name</th>\n",
       "      <th>serves</th>\n",
       "      <th>tags</th>\n",
       "    </tr>\n",
       "  </thead>\n",
       "  <tbody>\n",
       "    <tr>\n",
       "      <th>0</th>\n",
       "      <td>NaN</td>\n",
       "      <td>['Set the racks in the middle and upper thirds...</td>\n",
       "      <td>['American']</td>\n",
       "      <td>https://www.skinnytaste.com/wp-content/uploads...</td>\n",
       "      <td>['1 tablespoons extra virgin olive oil', '1 cu...</td>\n",
       "      <td>20 minutes</td>\n",
       "      <td>Mediterranean Sea Bass</td>\n",
       "      <td>4 servings</td>\n",
       "      <td>Dairy Free, Gluten Free, Keto Recipes, Kid Fri...</td>\n",
       "    </tr>\n",
       "    <tr>\n",
       "      <th>1</th>\n",
       "      <td>NaN</td>\n",
       "      <td>['Place the eggs in the air fryer basket and c...</td>\n",
       "      <td>['American']</td>\n",
       "      <td>https://www.skinnytaste.com/wp-content/uploads...</td>\n",
       "      <td>['4 large eggs', 'Salt (black pepper, everythi...</td>\n",
       "      <td>15 minutes</td>\n",
       "      <td>Air Fryer Hard Boiled Eggs</td>\n",
       "      <td>4 eggs</td>\n",
       "      <td>Air Fryer Recipes, Dairy Free, Gluten Free, Ke...</td>\n",
       "    </tr>\n",
       "    <tr>\n",
       "      <th>2</th>\n",
       "      <td>NaN</td>\n",
       "      <td>['Air Fryer directions:', 'Preheat air fryer t...</td>\n",
       "      <td>['American']</td>\n",
       "      <td>https://www.skinnytaste.com/wp-content/uploads...</td>\n",
       "      <td>['olive oil spray', '4 about 5 ounce each salm...</td>\n",
       "      <td>5 minutes</td>\n",
       "      <td>Air Fryer Basil-Parmesan Salmon</td>\n",
       "      <td>4 servings</td>\n",
       "      <td>Air Fryer Recipes, Gluten Free, Keto Recipes, ...</td>\n",
       "    </tr>\n",
       "    <tr>\n",
       "      <th>3</th>\n",
       "      <td>NaN</td>\n",
       "      <td>['Preheat the oven to 400F.', 'Pour 2 tablespo...</td>\n",
       "      <td>['American']</td>\n",
       "      <td>https://www.skinnytaste.com/wp-content/uploads...</td>\n",
       "      <td>['1/2 cup freshly grated Parmesan (not pre-gra...</td>\n",
       "      <td>15 minutes</td>\n",
       "      <td>Everything Parmesan Crisps</td>\n",
       "      <td>4 servings</td>\n",
       "      <td>Gluten Free, Keto Recipes, Kid Friendly, Low C...</td>\n",
       "    </tr>\n",
       "    <tr>\n",
       "      <th>4</th>\n",
       "      <td>NaN</td>\n",
       "      <td>['Cook potatoes in a large pot of salted water...</td>\n",
       "      <td>['American']</td>\n",
       "      <td>https://www.skinnytaste.com/wp-content/uploads...</td>\n",
       "      <td>['3 1/2 pounds new potatoes (about 10 peeled a...</td>\n",
       "      <td>10 minutes</td>\n",
       "      <td>Potato and Green Bean Salad</td>\n",
       "      <td>12 servings</td>\n",
       "      <td>Dairy Free, Gluten Free, Kid Friendly, Vegetar...</td>\n",
       "    </tr>\n",
       "    <tr>\n",
       "      <th>5</th>\n",
       "      <td>NaN</td>\n",
       "      <td>['To Make the soup:', 'Heat 1 tablespoon of oi...</td>\n",
       "      <td>['American']</td>\n",
       "      <td>https://www.skinnytaste.com/wp-content/uploads...</td>\n",
       "      <td>['2 tablespoons high-heat oil', '1 medium yell...</td>\n",
       "      <td>5 minutes</td>\n",
       "      <td>Green Detox Soup with Toasted Hemp Gremolata</td>\n",
       "      <td>2 servings</td>\n",
       "      <td>Dairy Free, Gluten Free, Under 30 Minutes, Veg...</td>\n",
       "    </tr>\n",
       "    <tr>\n",
       "      <th>6</th>\n",
       "      <td>NaN</td>\n",
       "      <td>['Preheat the to 350F degrees. Spray a pie dis...</td>\n",
       "      <td>['American']</td>\n",
       "      <td>https://www.skinnytaste.com/wp-content/uploads...</td>\n",
       "      <td>['cooking spray', '1 3/4 cups diced ham steak ...</td>\n",
       "      <td>15 minutes</td>\n",
       "      <td>Ham and Swiss Crustless Quiche</td>\n",
       "      <td>6 servings</td>\n",
       "      <td>Gluten Free, Keto Recipes, Kid Friendly, Low C...</td>\n",
       "    </tr>\n",
       "    <tr>\n",
       "      <th>7</th>\n",
       "      <td>NaN</td>\n",
       "      <td>['Combine sour cream and brown sugar and mix w...</td>\n",
       "      <td>['American']</td>\n",
       "      <td>https://www.skinnytaste.com/wp-content/uploads...</td>\n",
       "      <td>['16 oz strawberries (washed and cut)', '4 oz ...</td>\n",
       "      <td>5 minutes</td>\n",
       "      <td>Strawberries Romanoff</td>\n",
       "      <td>5 Servings</td>\n",
       "      <td>Gluten Free, Kid Friendly, Low Carb, Under 30 ...</td>\n",
       "    </tr>\n",
       "    <tr>\n",
       "      <th>8</th>\n",
       "      <td>NaN</td>\n",
       "      <td>['Preheat the oven to 450F. Place a silicone l...</td>\n",
       "      <td>['American']</td>\n",
       "      <td>https://www.skinnytaste.com/wp-content/uploads...</td>\n",
       "      <td>['1 cup 5 oz all purpose or white whole wheat ...</td>\n",
       "      <td>15 minutes</td>\n",
       "      <td>Smoked Salmon Breakfast Flatbread</td>\n",
       "      <td>4 servings</td>\n",
       "      <td>Air Fryer Recipes, Gluten Free, Under 30 Minutes</td>\n",
       "    </tr>\n",
       "    <tr>\n",
       "      <th>9</th>\n",
       "      <td>NaN</td>\n",
       "      <td>[]</td>\n",
       "      <td>NaN</td>\n",
       "      <td>https://www.skinnytaste.com/wp-content/uploads...</td>\n",
       "      <td>[]</td>\n",
       "      <td>0 minutes</td>\n",
       "      <td>Skinnytaste Air Fryer Cookbook: Get a Free 39</td>\n",
       "      <td>0</td>\n",
       "      <td>Air Fryer Recipes</td>\n",
       "    </tr>\n",
       "  </tbody>\n",
       "</table>\n",
       "</div>"
      ],
      "text/plain": [
       "  category                                     cooking_method       cuisine  \\\n",
       "0      NaN  ['Set the racks in the middle and upper thirds...  ['American']   \n",
       "1      NaN  ['Place the eggs in the air fryer basket and c...  ['American']   \n",
       "2      NaN  ['Air Fryer directions:', 'Preheat air fryer t...  ['American']   \n",
       "3      NaN  ['Preheat the oven to 400F.', 'Pour 2 tablespo...  ['American']   \n",
       "4      NaN  ['Cook potatoes in a large pot of salted water...  ['American']   \n",
       "5      NaN  ['To Make the soup:', 'Heat 1 tablespoon of oi...  ['American']   \n",
       "6      NaN  ['Preheat the to 350F degrees. Spray a pie dis...  ['American']   \n",
       "7      NaN  ['Combine sour cream and brown sugar and mix w...  ['American']   \n",
       "8      NaN  ['Preheat the oven to 450F. Place a silicone l...  ['American']   \n",
       "9      NaN                                                 []           NaN   \n",
       "\n",
       "                                               image  \\\n",
       "0  https://www.skinnytaste.com/wp-content/uploads...   \n",
       "1  https://www.skinnytaste.com/wp-content/uploads...   \n",
       "2  https://www.skinnytaste.com/wp-content/uploads...   \n",
       "3  https://www.skinnytaste.com/wp-content/uploads...   \n",
       "4  https://www.skinnytaste.com/wp-content/uploads...   \n",
       "5  https://www.skinnytaste.com/wp-content/uploads...   \n",
       "6  https://www.skinnytaste.com/wp-content/uploads...   \n",
       "7  https://www.skinnytaste.com/wp-content/uploads...   \n",
       "8  https://www.skinnytaste.com/wp-content/uploads...   \n",
       "9  https://www.skinnytaste.com/wp-content/uploads...   \n",
       "\n",
       "                                         ingredients   prep_time  \\\n",
       "0  ['1 tablespoons extra virgin olive oil', '1 cu...  20 minutes   \n",
       "1  ['4 large eggs', 'Salt (black pepper, everythi...  15 minutes   \n",
       "2  ['olive oil spray', '4 about 5 ounce each salm...   5 minutes   \n",
       "3  ['1/2 cup freshly grated Parmesan (not pre-gra...  15 minutes   \n",
       "4  ['3 1/2 pounds new potatoes (about 10 peeled a...  10 minutes   \n",
       "5  ['2 tablespoons high-heat oil', '1 medium yell...   5 minutes   \n",
       "6  ['cooking spray', '1 3/4 cups diced ham steak ...  15 minutes   \n",
       "7  ['16 oz strawberries (washed and cut)', '4 oz ...   5 minutes   \n",
       "8  ['1 cup 5 oz all purpose or white whole wheat ...  15 minutes   \n",
       "9                                                 []   0 minutes   \n",
       "\n",
       "                                     recipe_name       serves  \\\n",
       "0                         Mediterranean Sea Bass   4 servings   \n",
       "1                     Air Fryer Hard Boiled Eggs       4 eggs   \n",
       "2                Air Fryer Basil-Parmesan Salmon   4 servings   \n",
       "3                     Everything Parmesan Crisps   4 servings   \n",
       "4                    Potato and Green Bean Salad  12 servings   \n",
       "5   Green Detox Soup with Toasted Hemp Gremolata   2 servings   \n",
       "6                 Ham and Swiss Crustless Quiche   6 servings   \n",
       "7                          Strawberries Romanoff   5 Servings   \n",
       "8              Smoked Salmon Breakfast Flatbread   4 servings   \n",
       "9  Skinnytaste Air Fryer Cookbook: Get a Free 39            0   \n",
       "\n",
       "                                                tags  \n",
       "0  Dairy Free, Gluten Free, Keto Recipes, Kid Fri...  \n",
       "1  Air Fryer Recipes, Dairy Free, Gluten Free, Ke...  \n",
       "2  Air Fryer Recipes, Gluten Free, Keto Recipes, ...  \n",
       "3  Gluten Free, Keto Recipes, Kid Friendly, Low C...  \n",
       "4  Dairy Free, Gluten Free, Kid Friendly, Vegetar...  \n",
       "5  Dairy Free, Gluten Free, Under 30 Minutes, Veg...  \n",
       "6  Gluten Free, Keto Recipes, Kid Friendly, Low C...  \n",
       "7  Gluten Free, Kid Friendly, Low Carb, Under 30 ...  \n",
       "8   Air Fryer Recipes, Gluten Free, Under 30 Minutes  \n",
       "9                                  Air Fryer Recipes  "
      ]
     },
     "execution_count": 6,
     "metadata": {},
     "output_type": "execute_result"
    }
   ],
   "source": [
    "path = \"/home/david/Projects/Hackathons/DeveloperWeek2022/RecipeSuggestions/data/salad-recipe-data/\"\n",
    "df = pd.read_csv(path + \"recipes_82k.csv\")\n",
    "df.head(10)"
   ]
  },
  {
   "cell_type": "code",
   "execution_count": 18,
   "id": "5886cc9f",
   "metadata": {},
   "outputs": [
    {
     "name": "stdout",
     "output_type": "stream",
     "text": [
      "<class 'pandas.core.frame.DataFrame'>\n",
      "RangeIndex: 82245 entries, 0 to 82244\n",
      "Data columns (total 9 columns):\n",
      " #   Column          Non-Null Count  Dtype \n",
      "---  ------          --------------  ----- \n",
      " 0   category        18107 non-null  object\n",
      " 1   cooking_method  82245 non-null  object\n",
      " 2   cuisine         82230 non-null  object\n",
      " 3   image           82245 non-null  object\n",
      " 4   ingredients     82245 non-null  object\n",
      " 5   prep_time       58630 non-null  object\n",
      " 6   recipe_name     82245 non-null  object\n",
      " 7   serves          82244 non-null  object\n",
      " 8   tags            82011 non-null  object\n",
      "dtypes: object(9)\n",
      "memory usage: 5.6+ MB\n"
     ]
    }
   ],
   "source": [
    "df.info()"
   ]
  },
  {
   "cell_type": "code",
   "execution_count": 26,
   "id": "b730c9ad",
   "metadata": {},
   "outputs": [
    {
     "name": "stdout",
     "output_type": "stream",
     "text": [
      "Number of rows in dataframe:  82245\n"
     ]
    }
   ],
   "source": [
    "print(\"Number of rows in dataframe: \", len(df))"
   ]
  },
  {
   "cell_type": "markdown",
   "id": "44fa6dcf",
   "metadata": {},
   "source": [
    "## Number of ingredients"
   ]
  },
  {
   "cell_type": "code",
   "execution_count": 24,
   "id": "d46ebdac",
   "metadata": {},
   "outputs": [
    {
     "name": "stdout",
     "output_type": "stream",
     "text": [
      "No of unique sets of ingredients:  61198\n"
     ]
    }
   ],
   "source": [
    "print('No of unique sets of ingredients: ', len(df['ingredients'].unique().tolist()))"
   ]
  },
  {
   "cell_type": "code",
   "execution_count": 25,
   "id": "c600e0bb",
   "metadata": {},
   "outputs": [
    {
     "name": "stdout",
     "output_type": "stream",
     "text": [
      "No of unique recipe names:  55838\n"
     ]
    }
   ],
   "source": [
    "print('No of unique recipe names: ',len(df['recipe_name'].unique().tolist()))"
   ]
  },
  {
   "cell_type": "markdown",
   "id": "15016386",
   "metadata": {},
   "source": [
    "## Drop recipes with the same set of ingredients"
   ]
  },
  {
   "cell_type": "code",
   "execution_count": 27,
   "id": "12417947",
   "metadata": {},
   "outputs": [
    {
     "name": "stdout",
     "output_type": "stream",
     "text": [
      "Number of unique entries:  72909\n"
     ]
    }
   ],
   "source": [
    "df = df.drop_duplicates(keep='first')\n",
    "df.reset_index(drop=True, inplace=True)\n",
    "print(\"Number of unique entries: \", len(df))"
   ]
  },
  {
   "cell_type": "markdown",
   "id": "2bdbf755",
   "metadata": {},
   "source": [
    "## Count missing data values"
   ]
  },
  {
   "cell_type": "code",
   "execution_count": 35,
   "id": "f14422c8",
   "metadata": {},
   "outputs": [
    {
     "data": {
      "text/html": [
       "<div>\n",
       "<style scoped>\n",
       "    .dataframe tbody tr th:only-of-type {\n",
       "        vertical-align: middle;\n",
       "    }\n",
       "\n",
       "    .dataframe tbody tr th {\n",
       "        vertical-align: top;\n",
       "    }\n",
       "\n",
       "    .dataframe thead th {\n",
       "        text-align: right;\n",
       "    }\n",
       "</style>\n",
       "<table border=\"1\" class=\"dataframe\">\n",
       "  <thead>\n",
       "    <tr style=\"text-align: right;\">\n",
       "      <th></th>\n",
       "      <th>Total</th>\n",
       "      <th>Percent</th>\n",
       "    </tr>\n",
       "  </thead>\n",
       "  <tbody>\n",
       "    <tr>\n",
       "      <th>category</th>\n",
       "      <td>54874</td>\n",
       "      <td>0.752637</td>\n",
       "    </tr>\n",
       "    <tr>\n",
       "      <th>prep_time</th>\n",
       "      <td>20996</td>\n",
       "      <td>0.287975</td>\n",
       "    </tr>\n",
       "    <tr>\n",
       "      <th>tags</th>\n",
       "      <td>234</td>\n",
       "      <td>0.003209</td>\n",
       "    </tr>\n",
       "    <tr>\n",
       "      <th>cuisine</th>\n",
       "      <td>15</td>\n",
       "      <td>0.000206</td>\n",
       "    </tr>\n",
       "    <tr>\n",
       "      <th>serves</th>\n",
       "      <td>1</td>\n",
       "      <td>0.000014</td>\n",
       "    </tr>\n",
       "  </tbody>\n",
       "</table>\n",
       "</div>"
      ],
      "text/plain": [
       "           Total   Percent\n",
       "category   54874  0.752637\n",
       "prep_time  20996  0.287975\n",
       "tags         234  0.003209\n",
       "cuisine       15  0.000206\n",
       "serves         1  0.000014"
      ]
     },
     "execution_count": 35,
     "metadata": {},
     "output_type": "execute_result"
    }
   ],
   "source": [
    "total = df.isnull().sum().sort_values(ascending=False)\n",
    "percent = (df.isnull().sum()/df.isnull().count()).sort_values(ascending=False)\n",
    "missing_data = pd.concat([total, percent], axis=1, keys=['Total', 'Percent'])\n",
    "missing_data.head()"
   ]
  },
  {
   "cell_type": "markdown",
   "id": "a399ae17",
   "metadata": {},
   "source": [
    "## Analyze word frequency"
   ]
  },
  {
   "cell_type": "code",
   "execution_count": 38,
   "id": "5ee46f3e",
   "metadata": {},
   "outputs": [
    {
     "name": "stdout",
     "output_type": "stream",
     "text": [
      "'1;223876\n",
      "cup;152375\n",
      "'2;125691\n",
      "tablespoons;82565\n",
      "'1/2;78435\n",
      "and;77694\n",
      "teaspoon;77062\n",
      "cups;54631\n",
      "'1/4;52419\n",
      "ground;48120\n",
      "tablespoon;47310\n",
      "fresh;43989\n",
      "'3;38874\n",
      "pepper',;38048\n",
      "for;37620\n",
      "or;36168\n",
      "1/2;35277\n",
      "'4;34000\n",
      "oil',;33602\n",
      "chopped;33246\n",
      "black;32845\n",
      "salt',;31001\n",
      "freshly;30073\n",
      "chopped',;28910\n",
      "ounces;27162\n",
      "olive;26096\n",
      "sugar',;25527\n",
      "large;25497\n",
      "teaspoons;25125\n",
      "to;24576\n",
      "into;23015\n",
      "red;22500\n",
      "cut;21612\n",
      "['1;20893\n",
      "finely;20817\n",
      "plus;19202\n",
      "pound;18656\n",
      "'Kosher;16681\n",
      "white;16077\n",
      "of;15481\n",
      "unsalted;15085\n",
      "1;14995\n",
      "butter',;14558\n",
      "salt;14132\n",
      "garlic,;13938\n",
      "small;13833\n",
      "'Salt;13826\n",
      "['2;13711\n",
      "sliced;13598\n",
      "flour',;13416\n",
      "'6;13282\n",
      "powder',;13202\n",
      "grated;12978\n",
      "sliced',;12779\n",
      "'3/4;12752\n",
      "onion,;12578\n",
      "chicken;12321\n",
      "cloves;12282\n",
      "pounds;11845\n",
      "'8;11844\n",
      "butter,;11756\n",
      "juice',;11371\n",
      "(about;11348\n",
      "all-purpose;11291\n",
      "2;11086\n",
      "vinegar',;10856\n",
      "thinly;10826\n",
      "medium;10623\n",
      "leaves',;10622\n",
      "peeled;10617\n",
      "cream',;10554\n",
      "sauce',;10405\n",
      "recipe;10116\n",
      "vanilla;9916\n",
      "dried;9665\n",
      "green;9557\n",
      "extra-virgin;9435\n",
      "diced',;9256\n",
      "kosher;9228\n",
      "'1/3;9199\n",
      "water',;9193\n",
      "lemon;9134\n",
      "whole;9119\n",
      "more;8890\n",
      "minced',;8806\n",
      "the;8804\n",
      "in;8795\n",
      "oil,;8753\n",
      "baking;8459\n",
      "follows',;8414\n",
      "minced;8411\n",
      "milk',;8351\n",
      "as;8040\n",
      "brown;7721\n",
      "garlic;7690\n",
      "1/4;7640\n",
      "vegetable;7594\n",
      "can;7470\n",
      "extract',;7414\n",
      "pepper,;7385\n",
      "heavy;7126\n",
      "diced;6910\n",
      "eggs',;6758\n",
      "pepper;6736\n",
      "room;6736\n",
      "garlic',;6636\n",
      "pepper'];6403\n",
      "slices;6368\n",
      "'5;6279\n",
      "'Pinch;6252\n",
      "'12;6217\n",
      "egg;6134\n",
      "pieces',;6061\n",
      "at;6041\n",
      "cheese',;5997\n",
      "dry;5859\n",
      "temperature',;5852\n",
      "with;5798\n",
      "yellow;5758\n",
      "bell;5716\n",
      "a;5565\n",
      "['4;5556\n",
      "shredded;5535\n",
      "3;5336\n",
      "mustard',;5315\n",
      "wine;5292\n",
      "granulated;5290\n",
      "such;5200\n",
      "tomatoes,;5199\n",
      "'Freshly;5166\n",
      "leaves,;5052\n",
      "'One;5012\n",
      "cheese,;4966\n",
      "wine',;4954\n",
      "frozen;4927\n",
      "['3;4899\n",
      "light;4885\n",
      "bunch;4755\n",
      "hot;4752\n",
      "orange;4747\n",
      "garnish',;4740\n",
      "4;4712\n",
      "coarsely;4581\n",
      "seeded;4440\n",
      "stock',;4263\n",
      "cinnamon',;4261\n",
      "taste',;4200\n",
      "cream;4133\n",
      "(recommended:;4101\n",
      "crushed;4094\n",
      "honey',;4077\n",
      "['1/2;4067\n",
      "lime;4045\n",
      "packed;4044\n",
      "sweet;4039\n",
      "1/2-inch;3996\n",
      "parsley',;3995\n",
      "(1;3964\n",
      "sour;3923\n",
      "roughly;3907\n",
      "onions,;3882\n",
      "onion',;3862\n",
      "peeled,;3807\n",
      "sprigs;3780\n",
      "garnish'];3770\n",
      "bay;3764\n",
      "cooked;3736\n",
      "chocolate;3732\n",
      "clove;3700\n",
      "parsley;3697\n",
      "thyme',;3687\n",
      "leaves;3659\n",
      "package;3615\n",
      "soy;3609\n",
      "pure;3579\n",
      "chili;3553\n",
      "ginger',;3495\n",
      "paprika',;3468\n",
      "flakes',;3446\n",
      "tomato;3418\n",
      "eggs,;3415\n",
      "broth',;3386\n",
      "canola;3385\n",
      "seeds',;3350\n",
      "dark;3341\n",
      "1-inch;3323\n",
      "cumin',;3318\n",
      "Italian;3311\n",
      "tomatoes',;3310\n",
      "beef;3265\n",
      "corn;3257\n",
      "lemon,;3213\n",
      "'1/8;3192\n",
      "rice;3172\n",
      "mayonnaise',;3166\n",
      "potatoes,;3166\n",
      "juiced',;3149\n",
      "soda',;3143\n",
      "cilantro;3141\n",
      "basil;3119\n"
     ]
    }
   ],
   "source": [
    "vocabulary = nltk.FreqDist()\n",
    "# This was done once I had already preprocessed the ingredients\n",
    "for ingredients in df['ingredients']:\n",
    "    ingredients = ingredients.split()\n",
    "    vocabulary.update(ingredients)\n",
    "for word, frequency in vocabulary.most_common(200):\n",
    "    print(f'{word};{frequency}')"
   ]
  },
  {
   "cell_type": "markdown",
   "id": "cca177bb",
   "metadata": {},
   "source": [
    "## Access images of food"
   ]
  },
  {
   "cell_type": "code",
   "execution_count": 7,
   "id": "890b9396",
   "metadata": {},
   "outputs": [
    {
     "data": {
      "text/plain": [
       "'https://www.skinnytaste.com/wp-content/uploads/2019/05/Air-Fryer-Basil-Parmesan-Salmon-8.jpg'"
      ]
     },
     "execution_count": 7,
     "metadata": {},
     "output_type": "execute_result"
    }
   ],
   "source": [
    "df.iloc[2]['image']"
   ]
  },
  {
   "cell_type": "code",
   "execution_count": 8,
   "id": "73d6a6d2",
   "metadata": {},
   "outputs": [],
   "source": [
    "from PIL import Image\n",
    "import requests\n",
    "from io import BytesIO"
   ]
  },
  {
   "cell_type": "code",
   "execution_count": 10,
   "id": "986802cf",
   "metadata": {},
   "outputs": [],
   "source": [
    "response = requests.get(df.iloc[2]['image'])"
   ]
  },
  {
   "cell_type": "code",
   "execution_count": 15,
   "id": "e0e62b31",
   "metadata": {},
   "outputs": [
    {
     "data": {
      "text/plain": [
       "<Response [200]>"
      ]
     },
     "execution_count": 15,
     "metadata": {},
     "output_type": "execute_result"
    }
   ],
   "source": [
    "response"
   ]
  },
  {
   "cell_type": "code",
   "execution_count": 11,
   "id": "566e1bc7",
   "metadata": {},
   "outputs": [],
   "source": [
    "img = Image.open(BytesIO(response.content))"
   ]
  },
  {
   "cell_type": "code",
   "execution_count": 13,
   "id": "337db7b6",
   "metadata": {},
   "outputs": [],
   "source": [
    "import matplotlib.pyplot as plt\n",
    "import matplotlib.image as mpimg"
   ]
  },
  {
   "cell_type": "code",
   "execution_count": 14,
   "id": "3f164789",
   "metadata": {},
   "outputs": [
    {
     "data": {
      "image/png": "[encoded data removed]",
      "text/plain": [
       "<Figure size 432x288 with 1 Axes>"
      ]
     },
     "metadata": {
      "needs_background": "light"
     },
     "output_type": "display_data"
    }
   ],
   "source": [
    "imgplot = plt.imshow(img)"
   ]
  }
 ],
 "metadata": {
  "kernelspec": {
   "display_name": "Python [conda env:RecRecipe] *",
   "language": "python",
   "name": "conda-env-RecRecipe-py"
  },
  "language_info": {
   "codemirror_mode": {
    "name": "ipython",
    "version": 3
   },
   "file_extension": ".py",
   "mimetype": "text/x-python",
   "name": "python",
   "nbconvert_exporter": "python",
   "pygments_lexer": "ipython3",
   "version": "3.9.7"
  },
  "toc": {
   "base_numbering": 1,
   "nav_menu": {},
   "number_sections": true,
   "sideBar": true,
   "skip_h1_title": false,
   "title_cell": "Table of Contents",
   "title_sidebar": "Contents",
   "toc_cell": false,
   "toc_position": {
    "height": "calc(100% - 180px)",
    "left": "10px",
    "top": "150px",
    "width": "512px"
   },
   "toc_section_display": true,
   "toc_window_display": true
  }
 },
 "nbformat": 4,
 "nbformat_minor": 5
}
