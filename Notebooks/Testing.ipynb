{
 "cells": [
  {
   "cell_type": "code",
   "execution_count": 1,
   "id": "06b71622",
   "metadata": {},
   "outputs": [],
   "source": [
    "from sklearn.feature_extraction.text import CountVectorizer"
   ]
  },
  {
   "cell_type": "markdown",
   "id": "0046899c",
   "metadata": {},
   "source": [
    "# Count Vectorizer"
   ]
  },
  {
   "cell_type": "code",
   "execution_count": 2,
   "id": "f7a7c520",
   "metadata": {},
   "outputs": [],
   "source": [
    "vectorizer = CountVectorizer()"
   ]
  },
  {
   "cell_type": "code",
   "execution_count": 19,
   "id": "e5ce293f",
   "metadata": {},
   "outputs": [],
   "source": [
    "corpus = [\n",
    "          'sugar, fruit, rasperry, pineapple',\n",
    "          'onion tomato garlic pizza orange',\n",
    "          'apple banana',\n",
    "          'beer bread sausage fish',\n",
    "]"
   ]
  },
  {
   "cell_type": "code",
   "execution_count": 20,
   "id": "88408e9b",
   "metadata": {},
   "outputs": [],
   "source": [
    "# learn the vocabulary and store CountVectorizer sparse matrix in X\n",
    "X = vectorizer.fit_transform(corpus)"
   ]
  },
  {
   "cell_type": "code",
   "execution_count": 22,
   "id": "5bd2b302",
   "metadata": {},
   "outputs": [
    {
     "data": {
      "text/plain": [
       "array([[0, 0, 0, 0, 0, 1, 0, 0, 0, 1, 0, 1, 0, 1, 0],\n",
       "       [0, 0, 0, 0, 0, 0, 1, 1, 1, 0, 1, 0, 0, 0, 1],\n",
       "       [1, 1, 0, 0, 0, 0, 0, 0, 0, 0, 0, 0, 0, 0, 0],\n",
       "       [0, 0, 1, 1, 1, 0, 0, 0, 0, 0, 0, 0, 1, 0, 0]])"
      ]
     },
     "execution_count": 22,
     "metadata": {},
     "output_type": "execute_result"
    }
   ],
   "source": [
    "# retrieving the matrix in the numpy form\n",
    "X.toarray()"
   ]
  },
  {
   "cell_type": "code",
   "execution_count": 23,
   "id": "3631efca",
   "metadata": {},
   "outputs": [
    {
     "data": {
      "text/plain": [
       "array([[0, 0, 0, 0, 0, 0, 0, 0, 0, 0, 0, 0, 0, 0, 0]])"
      ]
     },
     "execution_count": 23,
     "metadata": {},
     "output_type": "execute_result"
    }
   ],
   "source": [
    "# transforming a new document according to learn vocabulary\n",
    "vectorizer.transform(['A new document.']).toarray()"
   ]
  },
  {
   "cell_type": "code",
   "execution_count": 24,
   "id": "701a65c5",
   "metadata": {},
   "outputs": [
    {
     "data": {
      "text/plain": [
       "array([[0, 0, 0, 0, 0, 0, 1, 0, 0, 1, 0, 1, 0, 1, 0]])"
      ]
     },
     "execution_count": 24,
     "metadata": {},
     "output_type": "execute_result"
    }
   ],
   "source": [
    "# transforming a new document according to learn vocabulary\n",
    "vectorizer.transform(['sugar garlic rasperry pineapple']).toarray()"
   ]
  },
  {
   "cell_type": "code",
   "execution_count": null,
   "id": "a69c9633",
   "metadata": {},
   "outputs": [],
   "source": []
  },
  {
   "cell_type": "markdown",
   "id": "a2874bc3",
   "metadata": {},
   "source": [
    "# SequenceMatcher"
   ]
  },
  {
   "cell_type": "code",
   "execution_count": 25,
   "id": "3afd3651",
   "metadata": {},
   "outputs": [],
   "source": [
    "from difflib import SequenceMatcher"
   ]
  },
  {
   "cell_type": "markdown",
   "id": "81a110c4",
   "metadata": {},
   "source": [
    "## Lists with permuted items"
   ]
  },
  {
   "cell_type": "code",
   "execution_count": 34,
   "id": "5aaca1e9",
   "metadata": {},
   "outputs": [
    {
     "data": {
      "text/plain": [
       "0.6666666666666666"
      ]
     },
     "execution_count": 34,
     "metadata": {},
     "output_type": "execute_result"
    }
   ],
   "source": [
    "my_ingredients = [\"sugar\", \"fruit\", \"rasperry\"]\n",
    "recipe = [\"fruit\", \"rasperry\", \"sugar\"]\n",
    "SequenceMatcher(None, recipe, my_ingredients).ratio()"
   ]
  },
  {
   "cell_type": "markdown",
   "id": "2dac8721",
   "metadata": {},
   "source": [
    "## ..."
   ]
  },
  {
   "cell_type": "code",
   "execution_count": 32,
   "id": "4f3527a3",
   "metadata": {},
   "outputs": [
    {
     "data": {
      "text/plain": [
       "0.2857142857142857"
      ]
     },
     "execution_count": 32,
     "metadata": {},
     "output_type": "execute_result"
    }
   ],
   "source": [
    "my_ingredients = [\"sugar\", \"fruit\", \"rasperry\"]\n",
    "recipe = [\"sugar\", \"onion\", \"tomato\", \"pineapple\"]\n",
    "SequenceMatcher(None, recipe, my_ingredients).ratio()"
   ]
  },
  {
   "cell_type": "code",
   "execution_count": 31,
   "id": "b24ea6c8",
   "metadata": {},
   "outputs": [
    {
     "data": {
      "text/plain": [
       "0.2857142857142857"
      ]
     },
     "execution_count": 31,
     "metadata": {},
     "output_type": "execute_result"
    }
   ],
   "source": [
    "my_ingredients = (\"sugar\", \"fruit\", \"rasperry\")\n",
    "recipe = (\"sugar\", \"onion\", \"tomato\", \"pineapple\")\n",
    "SequenceMatcher(None, recipe, my_ingredients).ratio()"
   ]
  },
  {
   "cell_type": "code",
   "execution_count": 30,
   "id": "d32c5a5e",
   "metadata": {},
   "outputs": [
    {
     "data": {
      "text/plain": [
       "1.0"
      ]
     },
     "execution_count": 30,
     "metadata": {},
     "output_type": "execute_result"
    }
   ],
   "source": [
    "my_ingredients = \"sugar\"\n",
    "recipe = \"sugar\"\n",
    "SequenceMatcher(None, recipe, my_ingredients).ratio()"
   ]
  },
  {
   "cell_type": "code",
   "execution_count": null,
   "id": "aaf6cca5",
   "metadata": {},
   "outputs": [],
   "source": []
  },
  {
   "cell_type": "markdown",
   "id": "1d3a3508",
   "metadata": {},
   "source": [
    "# Word2Vec"
   ]
  },
  {
   "cell_type": "code",
   "execution_count": 18,
   "id": "310eddaf",
   "metadata": {},
   "outputs": [],
   "source": [
    "#from gensim.models import word2vec"
   ]
  },
  {
   "cell_type": "markdown",
   "id": "2dbddfc9",
   "metadata": {},
   "source": [
    "# Fuzz"
   ]
  },
  {
   "cell_type": "markdown",
   "id": "0613c244",
   "metadata": {},
   "source": [
    "## Compare two lists of strings"
   ]
  },
  {
   "cell_type": "code",
   "execution_count": 9,
   "id": "6b0f6b14",
   "metadata": {},
   "outputs": [],
   "source": [
    "from thefuzz import fuzz\n",
    "from thefuzz import process"
   ]
  },
  {
   "cell_type": "code",
   "execution_count": 10,
   "id": "bd37946d",
   "metadata": {},
   "outputs": [],
   "source": [
    "my_ingredients = [\"sugar\", \"fruit\", \"rasperry\", \"pineapple\"]\n",
    "recipe = [\"sugar\", \"onion\", \"tomato\", \"pineapple\"]"
   ]
  },
  {
   "cell_type": "code",
   "execution_count": 11,
   "id": "bbd93520",
   "metadata": {},
   "outputs": [
    {
     "data": {
      "text/plain": [
       "76"
      ]
     },
     "execution_count": 11,
     "metadata": {},
     "output_type": "execute_result"
    }
   ],
   "source": [
    "fuzz.ratio(my_ingredients, recipe)"
   ]
  },
  {
   "cell_type": "markdown",
   "id": "2de284d5",
   "metadata": {},
   "source": [
    "### Lists of different lengths"
   ]
  },
  {
   "cell_type": "code",
   "execution_count": 12,
   "id": "ff7eaebe",
   "metadata": {},
   "outputs": [],
   "source": [
    "my_ingredients = [\"sugar\", \"fruit\", \"rasperry\"]\n",
    "recipe = [\"sugar\", \"onion\", \"tomato\", \"pineapple\"]"
   ]
  },
  {
   "cell_type": "code",
   "execution_count": 13,
   "id": "cb1f9aba",
   "metadata": {},
   "outputs": [
    {
     "data": {
      "text/plain": [
       "62"
      ]
     },
     "execution_count": 13,
     "metadata": {},
     "output_type": "execute_result"
    }
   ],
   "source": [
    "fuzz.ratio(my_ingredients, recipe)"
   ]
  },
  {
   "cell_type": "markdown",
   "id": "82a8cfba",
   "metadata": {},
   "source": [
    "### Lists with permutated item order"
   ]
  },
  {
   "cell_type": "code",
   "execution_count": 14,
   "id": "087732aa",
   "metadata": {},
   "outputs": [],
   "source": [
    "my_ingredients = [\"onion\", \"sugar\", \"pineapple\", \"tomato\"]\n",
    "recipe = [\"sugar\", \"onion\", \"tomato\", \"pineapple\"]"
   ]
  },
  {
   "cell_type": "code",
   "execution_count": 15,
   "id": "1073828a",
   "metadata": {},
   "outputs": [
    {
     "data": {
      "text/plain": [
       "66"
      ]
     },
     "execution_count": 15,
     "metadata": {},
     "output_type": "execute_result"
    }
   ],
   "source": [
    "fuzz.ratio(my_ingredients, recipe)"
   ]
  },
  {
   "cell_type": "code",
   "execution_count": 16,
   "id": "a6304920",
   "metadata": {},
   "outputs": [],
   "source": [
    "my_ingredients = [\"onion\", \"sugar\", \"pineapple\", \"tomato\"]\n",
    "recipe = [\"onion\", \"sugar\", \"pineapple\", \"tomato\"]"
   ]
  },
  {
   "cell_type": "code",
   "execution_count": 17,
   "id": "1c520a78",
   "metadata": {},
   "outputs": [
    {
     "data": {
      "text/plain": [
       "100"
      ]
     },
     "execution_count": 17,
     "metadata": {},
     "output_type": "execute_result"
    }
   ],
   "source": [
    "fuzz.ratio(my_ingredients, recipe)"
   ]
  },
  {
   "cell_type": "code",
   "execution_count": null,
   "id": "95aea698",
   "metadata": {},
   "outputs": [],
   "source": []
  }
 ],
 "metadata": {
  "kernelspec": {
   "display_name": "Python [conda env:RecRecipe] *",
   "language": "python",
   "name": "conda-env-RecRecipe-py"
  },
  "language_info": {
   "codemirror_mode": {
    "name": "ipython",
    "version": 3
   },
   "file_extension": ".py",
   "mimetype": "text/x-python",
   "name": "python",
   "nbconvert_exporter": "python",
   "pygments_lexer": "ipython3",
   "version": "3.9.7"
  },
  "toc": {
   "base_numbering": 1,
   "nav_menu": {},
   "number_sections": true,
   "sideBar": true,
   "skip_h1_title": false,
   "title_cell": "Table of Contents",
   "title_sidebar": "Contents",
   "toc_cell": false,
   "toc_position": {},
   "toc_section_display": true,
   "toc_window_display": false
  }
 },
 "nbformat": 4,
 "nbformat_minor": 5
}
