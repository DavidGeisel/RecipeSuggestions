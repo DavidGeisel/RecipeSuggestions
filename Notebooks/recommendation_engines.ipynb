{
 "cells": [
  {
   "cell_type": "code",
   "execution_count": 27,
   "id": "8c96d84f",
   "metadata": {},
   "outputs": [],
   "source": [
    "import numpy as np\n",
    "import pandas as pd\n",
    "import ast\n",
    "# Import linear_kernel\n",
    "from sklearn.metrics.pairwise import linear_kernel\n",
    "#Import TfIdfVectorizer (scikit-learn)\n",
    "from sklearn.feature_extraction.text import TfidfVectorizer"
   ]
  },
  {
   "cell_type": "markdown",
   "id": "495234d7",
   "metadata": {},
   "source": [
    "# Load data"
   ]
  },
  {
   "cell_type": "code",
   "execution_count": 80,
   "id": "d975fb9c",
   "metadata": {},
   "outputs": [
    {
     "name": "stdout",
     "output_type": "stream",
     "text": [
      "Total number of recipes:  231637\n"
     ]
    },
    {
     "data": {
      "text/html": [
       "<div>\n",
       "<style scoped>\n",
       "    .dataframe tbody tr th:only-of-type {\n",
       "        vertical-align: middle;\n",
       "    }\n",
       "\n",
       "    .dataframe tbody tr th {\n",
       "        vertical-align: top;\n",
       "    }\n",
       "\n",
       "    .dataframe thead th {\n",
       "        text-align: right;\n",
       "    }\n",
       "</style>\n",
       "<table border=\"1\" class=\"dataframe\">\n",
       "  <thead>\n",
       "    <tr style=\"text-align: right;\">\n",
       "      <th></th>\n",
       "      <th>name</th>\n",
       "      <th>id</th>\n",
       "      <th>minutes</th>\n",
       "      <th>contributor_id</th>\n",
       "      <th>submitted</th>\n",
       "      <th>tags</th>\n",
       "      <th>nutrition</th>\n",
       "      <th>n_steps</th>\n",
       "      <th>steps</th>\n",
       "      <th>description</th>\n",
       "      <th>ingredients</th>\n",
       "      <th>n_ingredients</th>\n",
       "    </tr>\n",
       "  </thead>\n",
       "  <tbody>\n",
       "    <tr>\n",
       "      <th>0</th>\n",
       "      <td>arriba   baked winter squash mexican style</td>\n",
       "      <td>137739</td>\n",
       "      <td>55</td>\n",
       "      <td>47892</td>\n",
       "      <td>2005-09-16</td>\n",
       "      <td>['60-minutes-or-less', 'time-to-make', 'course...</td>\n",
       "      <td>[51.5, 0.0, 13.0, 0.0, 2.0, 0.0, 4.0]</td>\n",
       "      <td>11</td>\n",
       "      <td>['make a choice and proceed with recipe', 'dep...</td>\n",
       "      <td>autumn is my favorite time of year to cook! th...</td>\n",
       "      <td>[winter squash, mexican seasoning, mixed spice...</td>\n",
       "      <td>7</td>\n",
       "    </tr>\n",
       "    <tr>\n",
       "      <th>1</th>\n",
       "      <td>a bit different  breakfast pizza</td>\n",
       "      <td>31490</td>\n",
       "      <td>30</td>\n",
       "      <td>26278</td>\n",
       "      <td>2002-06-17</td>\n",
       "      <td>['30-minutes-or-less', 'time-to-make', 'course...</td>\n",
       "      <td>[173.4, 18.0, 0.0, 17.0, 22.0, 35.0, 1.0]</td>\n",
       "      <td>9</td>\n",
       "      <td>['preheat oven to 425 degrees f', 'press dough...</td>\n",
       "      <td>this recipe calls for the crust to be prebaked...</td>\n",
       "      <td>[prepared pizza crust, sausage patty, eggs, mi...</td>\n",
       "      <td>6</td>\n",
       "    </tr>\n",
       "    <tr>\n",
       "      <th>2</th>\n",
       "      <td>all in the kitchen  chili</td>\n",
       "      <td>112140</td>\n",
       "      <td>130</td>\n",
       "      <td>196586</td>\n",
       "      <td>2005-02-25</td>\n",
       "      <td>['time-to-make', 'course', 'preparation', 'mai...</td>\n",
       "      <td>[269.8, 22.0, 32.0, 48.0, 39.0, 27.0, 5.0]</td>\n",
       "      <td>6</td>\n",
       "      <td>['brown ground beef in large pot', 'add choppe...</td>\n",
       "      <td>this modified version of 'mom's' chili was a h...</td>\n",
       "      <td>[ground beef, yellow onions, diced tomatoes, t...</td>\n",
       "      <td>13</td>\n",
       "    </tr>\n",
       "    <tr>\n",
       "      <th>3</th>\n",
       "      <td>alouette  potatoes</td>\n",
       "      <td>59389</td>\n",
       "      <td>45</td>\n",
       "      <td>68585</td>\n",
       "      <td>2003-04-14</td>\n",
       "      <td>['60-minutes-or-less', 'time-to-make', 'course...</td>\n",
       "      <td>[368.1, 17.0, 10.0, 2.0, 14.0, 8.0, 20.0]</td>\n",
       "      <td>11</td>\n",
       "      <td>['place potatoes in a large pot of lightly sal...</td>\n",
       "      <td>this is a super easy, great tasting, make ahea...</td>\n",
       "      <td>[spreadable cheese with garlic and herbs, new ...</td>\n",
       "      <td>11</td>\n",
       "    </tr>\n",
       "    <tr>\n",
       "      <th>4</th>\n",
       "      <td>amish  tomato ketchup  for canning</td>\n",
       "      <td>44061</td>\n",
       "      <td>190</td>\n",
       "      <td>41706</td>\n",
       "      <td>2002-10-25</td>\n",
       "      <td>['weeknight', 'time-to-make', 'course', 'main-...</td>\n",
       "      <td>[352.9, 1.0, 337.0, 23.0, 3.0, 0.0, 28.0]</td>\n",
       "      <td>5</td>\n",
       "      <td>['mix all ingredients&amp; boil for 2 1 / 2 hours ...</td>\n",
       "      <td>my dh's amish mother raised him on this recipe...</td>\n",
       "      <td>[tomato juice, apple cider vinegar, sugar, sal...</td>\n",
       "      <td>8</td>\n",
       "    </tr>\n",
       "  </tbody>\n",
       "</table>\n",
       "</div>"
      ],
      "text/plain": [
       "                                         name      id  minutes  \\\n",
       "0  arriba   baked winter squash mexican style  137739       55   \n",
       "1            a bit different  breakfast pizza   31490       30   \n",
       "2                   all in the kitchen  chili  112140      130   \n",
       "3                          alouette  potatoes   59389       45   \n",
       "4          amish  tomato ketchup  for canning   44061      190   \n",
       "\n",
       "   contributor_id   submitted  \\\n",
       "0           47892  2005-09-16   \n",
       "1           26278  2002-06-17   \n",
       "2          196586  2005-02-25   \n",
       "3           68585  2003-04-14   \n",
       "4           41706  2002-10-25   \n",
       "\n",
       "                                                tags  \\\n",
       "0  ['60-minutes-or-less', 'time-to-make', 'course...   \n",
       "1  ['30-minutes-or-less', 'time-to-make', 'course...   \n",
       "2  ['time-to-make', 'course', 'preparation', 'mai...   \n",
       "3  ['60-minutes-or-less', 'time-to-make', 'course...   \n",
       "4  ['weeknight', 'time-to-make', 'course', 'main-...   \n",
       "\n",
       "                                    nutrition  n_steps  \\\n",
       "0       [51.5, 0.0, 13.0, 0.0, 2.0, 0.0, 4.0]       11   \n",
       "1   [173.4, 18.0, 0.0, 17.0, 22.0, 35.0, 1.0]        9   \n",
       "2  [269.8, 22.0, 32.0, 48.0, 39.0, 27.0, 5.0]        6   \n",
       "3   [368.1, 17.0, 10.0, 2.0, 14.0, 8.0, 20.0]       11   \n",
       "4   [352.9, 1.0, 337.0, 23.0, 3.0, 0.0, 28.0]        5   \n",
       "\n",
       "                                               steps  \\\n",
       "0  ['make a choice and proceed with recipe', 'dep...   \n",
       "1  ['preheat oven to 425 degrees f', 'press dough...   \n",
       "2  ['brown ground beef in large pot', 'add choppe...   \n",
       "3  ['place potatoes in a large pot of lightly sal...   \n",
       "4  ['mix all ingredients& boil for 2 1 / 2 hours ...   \n",
       "\n",
       "                                         description  \\\n",
       "0  autumn is my favorite time of year to cook! th...   \n",
       "1  this recipe calls for the crust to be prebaked...   \n",
       "2  this modified version of 'mom's' chili was a h...   \n",
       "3  this is a super easy, great tasting, make ahea...   \n",
       "4  my dh's amish mother raised him on this recipe...   \n",
       "\n",
       "                                         ingredients  n_ingredients  \n",
       "0  [winter squash, mexican seasoning, mixed spice...              7  \n",
       "1  [prepared pizza crust, sausage patty, eggs, mi...              6  \n",
       "2  [ground beef, yellow onions, diced tomatoes, t...             13  \n",
       "3  [spreadable cheese with garlic and herbs, new ...             11  \n",
       "4  [tomato juice, apple cider vinegar, sugar, sal...              8  "
      ]
     },
     "execution_count": 80,
     "metadata": {},
     "output_type": "execute_result"
    }
   ],
   "source": [
    "# need to convert string representation of ingredients list to list using ast\n",
    "#raw_recipes = pd.read_csv(data_path + \"RAW_recipes.csv\")\n",
    "raw_recipes = pd.read_csv(data_path + \"RAW_recipes.csv\", converters={'ingredients': ast.literal_eval})\n",
    "print(\"Total number of recipes: \", len(raw_recipes))\n",
    "raw_recipes.head(5)"
   ]
  },
  {
   "cell_type": "markdown",
   "id": "0bb35e58",
   "metadata": {},
   "source": [
    "### reduce dataframe"
   ]
  },
  {
   "cell_type": "code",
   "execution_count": 81,
   "id": "7520bd51",
   "metadata": {},
   "outputs": [],
   "source": [
    "selection = [\"name\", \"id\", \"minutes\", \"ingredients\"]\n",
    "df = raw_recipes[selection].sample(100)\n",
    "#df = raw_recipes[selection]"
   ]
  },
  {
   "cell_type": "code",
   "execution_count": null,
   "id": "2635a76b",
   "metadata": {},
   "outputs": [],
   "source": []
  },
  {
   "cell_type": "markdown",
   "id": "8c2f28a0",
   "metadata": {},
   "source": [
    "# CountVectorizer"
   ]
  },
  {
   "cell_type": "markdown",
   "id": "11a8feb9",
   "metadata": {},
   "source": [
    "## Basic example"
   ]
  },
  {
   "cell_type": "code",
   "execution_count": 30,
   "id": "26844bec",
   "metadata": {},
   "outputs": [],
   "source": [
    "from sklearn.feature_extraction.text import CountVectorizer"
   ]
  },
  {
   "cell_type": "code",
   "execution_count": 52,
   "id": "2f8875c2",
   "metadata": {},
   "outputs": [
    {
     "data": {
      "text/plain": [
       "230086    [yukon gold potatoes, onion, mayonnaise, lemon...\n",
       "130274    [maple syrup, cream cheese, crushed pineapple,...\n",
       "152182    [peanut oil, extra firm tofu, scallion, orange...\n",
       "Name: ingredients, dtype: object"
      ]
     },
     "execution_count": 52,
     "metadata": {},
     "output_type": "execute_result"
    }
   ],
   "source": [
    "data = df['ingredients']\n",
    "data.head(3)"
   ]
  },
  {
   "cell_type": "code",
   "execution_count": 53,
   "id": "ac0a9e6b",
   "metadata": {},
   "outputs": [],
   "source": [
    "vectorizer = CountVectorizer()"
   ]
  },
  {
   "cell_type": "code",
   "execution_count": 59,
   "id": "2cc4102f",
   "metadata": {},
   "outputs": [],
   "source": [
    "my_ingredients = [\"sugar\", \"fruit\", \"rasperry\", \"pineapple\", \"brown sugar\"]\n",
    "vectorizer.fit(my_ingredients)\n",
    "vectors = vectorizer.transform(my_ingredients).toarray()"
   ]
  },
  {
   "cell_type": "code",
   "execution_count": 60,
   "id": "9925b5e9",
   "metadata": {},
   "outputs": [
    {
     "name": "stdout",
     "output_type": "stream",
     "text": [
      "[[1.         0.         0.         0.         0.70710678]\n",
      " [0.         1.         0.         0.         0.        ]\n",
      " [0.         0.         1.         0.         0.        ]\n",
      " [0.         0.         0.         1.         0.        ]\n",
      " [0.70710678 0.         0.         0.         1.        ]]\n"
     ]
    }
   ],
   "source": [
    "from sklearn.metrics.pairwise import cosine_similarity\n",
    "cos_sim = cosine_similarity(vectors)\n",
    "print(cos_sim)"
   ]
  },
  {
   "cell_type": "markdown",
   "id": "93e2a5df",
   "metadata": {},
   "source": [
    "## Database approach"
   ]
  },
  {
   "cell_type": "markdown",
   "id": "adb8d4b6",
   "metadata": {},
   "source": [
    "### transorm lists in strings"
   ]
  },
  {
   "cell_type": "code",
   "execution_count": 82,
   "id": "7dcba601",
   "metadata": {},
   "outputs": [
    {
     "data": {
      "text/html": [
       "<div>\n",
       "<style scoped>\n",
       "    .dataframe tbody tr th:only-of-type {\n",
       "        vertical-align: middle;\n",
       "    }\n",
       "\n",
       "    .dataframe tbody tr th {\n",
       "        vertical-align: top;\n",
       "    }\n",
       "\n",
       "    .dataframe thead th {\n",
       "        text-align: right;\n",
       "    }\n",
       "</style>\n",
       "<table border=\"1\" class=\"dataframe\">\n",
       "  <thead>\n",
       "    <tr style=\"text-align: right;\">\n",
       "      <th></th>\n",
       "      <th>name</th>\n",
       "      <th>id</th>\n",
       "      <th>minutes</th>\n",
       "      <th>ingredients</th>\n",
       "    </tr>\n",
       "  </thead>\n",
       "  <tbody>\n",
       "    <tr>\n",
       "      <th>137318</th>\n",
       "      <td>mocha mousse brownie trifle</td>\n",
       "      <td>58264</td>\n",
       "      <td>55</td>\n",
       "      <td>brownies chocolate mousse mix whipped topping ...</td>\n",
       "    </tr>\n",
       "    <tr>\n",
       "      <th>76488</th>\n",
       "      <td>easy frozen chicken breast</td>\n",
       "      <td>265634</td>\n",
       "      <td>55</td>\n",
       "      <td>chicken breasts barbecue sauce brown sugar hon...</td>\n",
       "    </tr>\n",
       "    <tr>\n",
       "      <th>105529</th>\n",
       "      <td>hhhhhot crab dip</td>\n",
       "      <td>28140</td>\n",
       "      <td>40</td>\n",
       "      <td>philadelphia cream cheese crabmeat parmesan ch...</td>\n",
       "    </tr>\n",
       "    <tr>\n",
       "      <th>67720</th>\n",
       "      <td>cuban shrimp stew</td>\n",
       "      <td>54232</td>\n",
       "      <td>63</td>\n",
       "      <td>fresh lime juice garlic cloves oregano cumin s...</td>\n",
       "    </tr>\n",
       "    <tr>\n",
       "      <th>210846</th>\n",
       "      <td>thai spicy basil fried rice</td>\n",
       "      <td>473225</td>\n",
       "      <td>30</td>\n",
       "      <td>oyster sauce fish sauce soy sauce white sugar ...</td>\n",
       "    </tr>\n",
       "    <tr>\n",
       "      <th>...</th>\n",
       "      <td>...</td>\n",
       "      <td>...</td>\n",
       "      <td>...</td>\n",
       "      <td>...</td>\n",
       "    </tr>\n",
       "    <tr>\n",
       "      <th>47826</th>\n",
       "      <td>chili s black bean soup</td>\n",
       "      <td>66087</td>\n",
       "      <td>55</td>\n",
       "      <td>olive oil yellow onion carrot green bell peppe...</td>\n",
       "    </tr>\n",
       "    <tr>\n",
       "      <th>56689</th>\n",
       "      <td>coleslaw dressing</td>\n",
       "      <td>435420</td>\n",
       "      <td>15</td>\n",
       "      <td>mayonnaise dijon mustard lime juice sugar vine...</td>\n",
       "    </tr>\n",
       "    <tr>\n",
       "      <th>117079</th>\n",
       "      <td>kerry simon  iron chef slider</td>\n",
       "      <td>383879</td>\n",
       "      <td>30</td>\n",
       "      <td>ground beef dark beer bacon shiitake mushroom ...</td>\n",
       "    </tr>\n",
       "    <tr>\n",
       "      <th>154086</th>\n",
       "      <td>pasta with pink vodka sauce and sausage</td>\n",
       "      <td>327732</td>\n",
       "      <td>30</td>\n",
       "      <td>spaghetti olive oil hot italian turkey sausage...</td>\n",
       "    </tr>\n",
       "    <tr>\n",
       "      <th>100482</th>\n",
       "      <td>ground beef  rice and cabbage hot pot</td>\n",
       "      <td>15044</td>\n",
       "      <td>375</td>\n",
       "      <td>ground beef onion garlic chicken broth ketchup...</td>\n",
       "    </tr>\n",
       "  </tbody>\n",
       "</table>\n",
       "<p>100 rows × 4 columns</p>\n",
       "</div>"
      ],
      "text/plain": [
       "                                           name      id  minutes  \\\n",
       "137318              mocha mousse brownie trifle   58264       55   \n",
       "76488                easy frozen chicken breast  265634       55   \n",
       "105529                         hhhhhot crab dip   28140       40   \n",
       "67720                         cuban shrimp stew   54232       63   \n",
       "210846              thai spicy basil fried rice  473225       30   \n",
       "...                                         ...     ...      ...   \n",
       "47826                   chili s black bean soup   66087       55   \n",
       "56689                         coleslaw dressing  435420       15   \n",
       "117079            kerry simon  iron chef slider  383879       30   \n",
       "154086  pasta with pink vodka sauce and sausage  327732       30   \n",
       "100482    ground beef  rice and cabbage hot pot   15044      375   \n",
       "\n",
       "                                              ingredients  \n",
       "137318  brownies chocolate mousse mix whipped topping ...  \n",
       "76488   chicken breasts barbecue sauce brown sugar hon...  \n",
       "105529  philadelphia cream cheese crabmeat parmesan ch...  \n",
       "67720   fresh lime juice garlic cloves oregano cumin s...  \n",
       "210846  oyster sauce fish sauce soy sauce white sugar ...  \n",
       "...                                                   ...  \n",
       "47826   olive oil yellow onion carrot green bell peppe...  \n",
       "56689   mayonnaise dijon mustard lime juice sugar vine...  \n",
       "117079  ground beef dark beer bacon shiitake mushroom ...  \n",
       "154086  spaghetti olive oil hot italian turkey sausage...  \n",
       "100482  ground beef onion garlic chicken broth ketchup...  \n",
       "\n",
       "[100 rows x 4 columns]"
      ]
     },
     "execution_count": 82,
     "metadata": {},
     "output_type": "execute_result"
    }
   ],
   "source": [
    "#data['ingredients'] = data['ingredients'].apply(lambda x: ' '.join(map(str,x)))\n",
    "#data\n",
    "df['ingredients'] = [' '.join(x) for x in df['ingredients']]\n",
    "df"
   ]
  },
  {
   "cell_type": "code",
   "execution_count": 83,
   "id": "75ec8bad",
   "metadata": {},
   "outputs": [
    {
     "data": {
      "text/plain": [
       "'fresh lime juice garlic cloves oregano cumin shrimp salt and pepper olive oil onions red bell pepper green bell pepper yellow bell pepper celery fresh parsley cayenne pepper bay leaf tomato paste dry white wine water worcestershire sauce'"
      ]
     },
     "execution_count": 83,
     "metadata": {},
     "output_type": "execute_result"
    }
   ],
   "source": [
    "df.iloc[3]['ingredients']"
   ]
  },
  {
   "cell_type": "code",
   "execution_count": 84,
   "id": "4d0b3a59",
   "metadata": {},
   "outputs": [],
   "source": [
    "cv = CountVectorizer()"
   ]
  },
  {
   "cell_type": "code",
   "execution_count": 85,
   "id": "e93641c5",
   "metadata": {},
   "outputs": [],
   "source": [
    "vectorized = cv.fit_transform(df['ingredients'])"
   ]
  },
  {
   "cell_type": "code",
   "execution_count": 86,
   "id": "82202d1b",
   "metadata": {},
   "outputs": [
    {
     "name": "stdout",
     "output_type": "stream",
     "text": [
      "[[1.         0.         0.05423261 ... 0.         0.04583492 0.        ]\n",
      " [0.         1.         0.2981424  ... 0.05892557 0.06299408 0.13900961]\n",
      " [0.05423261 0.2981424  1.         ... 0.19764235 0.25354628 0.13987572]\n",
      " ...\n",
      " [0.         0.05892557 0.19764235 ... 1.         0.20044593 0.22116293]\n",
      " [0.04583492 0.06299408 0.25354628 ... 0.20044593 1.         0.15762208]\n",
      " [0.         0.13900961 0.13987572 ... 0.22116293 0.15762208 1.        ]]\n"
     ]
    }
   ],
   "source": [
    "from sklearn.metrics.pairwise import cosine_similarity\n",
    "cos_sim = cosine_similarity(vectorized)\n",
    "print(cos_sim)"
   ]
  },
  {
   "cell_type": "code",
   "execution_count": 87,
   "id": "91a1d578",
   "metadata": {},
   "outputs": [
    {
     "data": {
      "text/plain": [
       "(100, 100)"
      ]
     },
     "execution_count": 87,
     "metadata": {},
     "output_type": "execute_result"
    }
   ],
   "source": [
    "cos_sim.shape"
   ]
  },
  {
   "cell_type": "code",
   "execution_count": 88,
   "id": "fe642e8d",
   "metadata": {},
   "outputs": [],
   "source": [
    "# get reverse mapping of indices\n",
    "indices = pd.Series(df.index, index=df['ingredients']).drop_duplicates()"
   ]
  },
  {
   "cell_type": "code",
   "execution_count": null,
   "id": "32cebffd",
   "metadata": {},
   "outputs": [],
   "source": []
  },
  {
   "cell_type": "markdown",
   "id": "fea71666",
   "metadata": {},
   "source": [
    "# Fuzz approach"
   ]
  }
 ],
 "metadata": {
  "kernelspec": {
   "display_name": "Python [conda env:RecRecipe] *",
   "language": "python",
   "name": "conda-env-RecRecipe-py"
  },
  "language_info": {
   "codemirror_mode": {
    "name": "ipython",
    "version": 3
   },
   "file_extension": ".py",
   "mimetype": "text/x-python",
   "name": "python",
   "nbconvert_exporter": "python",
   "pygments_lexer": "ipython3",
   "version": "3.9.7"
  },
  "toc": {
   "base_numbering": 1,
   "nav_menu": {},
   "number_sections": true,
   "sideBar": true,
   "skip_h1_title": false,
   "title_cell": "Table of Contents",
   "title_sidebar": "Contents",
   "toc_cell": false,
   "toc_position": {
    "height": "calc(100% - 180px)",
    "left": "10px",
    "top": "150px",
    "width": "512px"
   },
   "toc_section_display": true,
   "toc_window_display": true
  }
 },
 "nbformat": 4,
 "nbformat_minor": 5
}
